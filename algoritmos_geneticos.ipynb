{
 "cells": [
  {
   "attachments": {},
   "cell_type": "markdown",
   "metadata": {},
   "source": [
    "# Inteligencia Artificial\n",
    "\n",
    "## Algoritmos Genéticos\n",
    "\n",
    "### Integrantes\n",
    "\n",
    "- Aldana S. Cardoso Rastrelli - 98.408\n",
    "- Nicolás Continanza - 97.576\n"
   ]
  },
  {
   "attachments": {},
   "cell_type": "markdown",
   "metadata": {},
   "source": [
    "## Breve Marco Histórico\n",
    "\n",
    "Dentro del campo de la Inteligencia Artificial y la resolución automática de problemas, en la década del '60 John Holland y su equipo de la Universidad de Michigan presentan los algoritmos genéticos, inspirados en la evolución biológica y la selección natural para problemas computacionales y de investigación operativa. El objetivo original de Holland no era el diseño de algoritmos para la resolución de problemas específicos, sino el estudio formal del fenómeno de adaptación como sucede en la naturaleza y el desarrollo de técnicas y métodos para importar mecanismos de adaptación natural a sistemas de computadoras.\n",
    "\n",
    "En su libro _Adaptation in Natural and Artificial Systems (1975)_, Holland presenta un algoritmo genético como un método para pasar de una población de \"cromosomas\" (un conjunto de bits) a una nueva población evolucionada, mediante un proceso de selección natural junto con un conjunto de operadores inspirados en la genética (entrecruzamiento, mutación e inversión). Cada cromosoma consiste de \"genes\" (bits), cada uno siendo una instancia de un \"alelo\" (0 ó 1). El operador de selección elige aquellos cromosomas de la población que podrán reproducirse, y en promedio los cromosomas más aptos producen más descendencia que los menos aptos. El operador de crossover (entrecruzamiento, también llamado recombinación en buena parte de la literatura) intercambia subpartes de dos cromosomas, imitando la recombinación cromosómica entre dos haploides (células con un solo juego de cromosomas). El operador de mutación cambia aleatoriamente el valor de los alelos de algunas posiciones en el cromosoma. Y el operador de inversión invierte el orden de una sección contigua del cromosoma, cambiando el orden de los genes.\n",
    "\n",
    "Con el pasar de los años hubo una amplia interacción entre investigadores que se dedicaron a estudiar variados métodos evolutivos computacionales, corriendo cada vez más los límites entre algoritmos genéticos, estrategias evolutivas y programación evolutiva, al punto de que al día de hoy el término _algoritmo genético_ se utiliza para describir cosas bastante lejanas a la concepción original de Holland, incorporando técnicas de machine learning para encontrar buenas (y a veces incluso óptimas) soluciones a problemas combinatorios con una inmensa cantidad de soluciones posibles.\n"
   ]
  },
  {
   "attachments": {},
   "cell_type": "markdown",
   "metadata": {},
   "source": [
    "## Algunas definiciones básicas\n",
    "\n",
    "Comencemos con unas pocas y breves definiciones, que nos servirán para introducir un primer ejemplo utilizando el vocabulario específico del tema.\n",
    "\n",
    "#### Población\n",
    "\n",
    "Dado un problema combinatorio, en el contexto de Algoritmos Genéticos llamaremos _población_ al conjunto de soluciones posibles para ese problema. En el marco de este Trabajo Práctico, ese conjunto siempre será discreto y finito.\n",
    "\n",
    "#### Cromosoma\n",
    "\n",
    "Un _Cromosoma_, _Individuo_ o _Genotipo_ (los tres términos se utilizan como sinónimos en la literatura) es un elemento particular de la población. Se lo suele representar como una combinación de bits, a la que se denomina _Genoma_.\n",
    "\n",
    "#### Gen\n",
    "\n",
    "Si consideramos un cromosoma como una combinación de bits, llamaremos _Gen_ a cada posición de esa combinación. Sus posibles valores, 0 ó 1, son conocidos como _Alelos_.\n"
   ]
  },
  {
   "attachments": {},
   "cell_type": "markdown",
   "metadata": {},
   "source": [
    "## Un primer ejemplo\n",
    "\n",
    "Los algoritmos genéticos utilizan la exploración aleatoria del espacio del problema, combinando procesos evolutivos como la mutación y el crossover para mejorar las conjeturas. Pero también, al no tener experiencia en el dominio del problema, intentan cosas que un humano nunca intentaría. De esta manera, una persona usando un algoritmo genético puede aprender más acerca del espacio del problema y potenciales soluciones, pudiendo así realizar mejoras al algoritmo en un círculo virtuoso.\n",
    "\n",
    "Tomemos como ejemplo inicial el ejercicio de adivinar una contraseña. Para simplificar el problema y poner el foco en lo que nos interesa, conocemos de antemano la longitud de la contraseña. Para ayudar a introducir algunos conceptos iniciales, después de cada intento tendremos la posibilidad de saber cuántas letras estaban en la posición correcta. Por ejemplo, si la contraseña es \"Hello World!\" y se intenta con la cadena \"World!Hello?\" se obtendrá el número 2, ya que solo la cuarta letra de cada palabra está en la posición correcta.\n",
    "\n",
    "Pseudocódigo:\n",
    "\n",
    "```\n",
    "_letters = [a..zA..Z !]\n",
    "target = \"Hello World!\"\n",
    "guess = get 12 random letters from _letters\n",
    "while guess != target:\n",
    "  index = get random value from [0..length of target]\n",
    "  guess[index] = get 1 random value from _letters\n",
    "```\n",
    "\n",
    "### Genes\n",
    "\n",
    "Para comenzar, los algoritmos genéticos necesitan un set de genes para construir las posibles soluciones. Para este ejemplo inicial, el set de genes serán las letras del abecedario, y los caracteres `' '`, `'!'` y `'.'`. También es necesario un target (la contraseña a adivinar):\n"
   ]
  },
  {
   "cell_type": "code",
   "execution_count": 49,
   "metadata": {},
   "outputs": [],
   "source": [
    "geneSet = \" abcdefghijklmnopqrstuvwxyzABCDEFGHIJKLMNOPQRSTUVWXYZ!.\"\n",
    "target = \"Hello World!\"\n"
   ]
  },
  {
   "attachments": {},
   "cell_type": "markdown",
   "metadata": {},
   "source": [
    "A continuación, el algoritmo deberá tener una manera de generar una cadena aleatoria a partir del set de genes, que será el punto de partida del proceso evolutivo. Por eso se lo llama _Generación 0_.\n"
   ]
  },
  {
   "cell_type": "code",
   "execution_count": 50,
   "metadata": {},
   "outputs": [],
   "source": [
    "import random\n",
    "\n",
    "\n",
    "def generate_parent(length):\n",
    "    genes = []\n",
    "    while len(genes) < length:\n",
    "        sampleSize = min(length - len(genes), len(geneSet))\n",
    "        genes.extend(random.sample(geneSet, sampleSize))\n",
    "    return ''.join(genes)\n"
   ]
  },
  {
   "attachments": {},
   "cell_type": "markdown",
   "metadata": {},
   "source": [
    "La función `random.sample()` toma una cantidad `sampleSize` de valores de la entrada sin reposición. Por lo tanto no habrá valores repetidos en el parent generado, salvo que `geneSet` contenga repetidos o `length` sea mayor que `len(geneSet)`. Esta implementación puede generar una larga cadena de caracteres a partir de un pequeño conjunto de genes, y usa tantos genes únicos como sea posible.\n"
   ]
  },
  {
   "attachments": {},
   "cell_type": "markdown",
   "metadata": {},
   "source": [
    "### Función de Aptitud (Fitness Function)\n",
    "\n",
    "El valor de fitness que provee el algoritmo genético es el único feedback que el sistema obtiene para guiarse hacia una solución. En este ejemplo, el valor de fitness es la cantidad total de letras en un intento que coinciden con la letra del target en la misma posición. Es decir, la cantidad de genes que están en la posición correcta del genoma que representa la solución.\n"
   ]
  },
  {
   "cell_type": "code",
   "execution_count": 51,
   "metadata": {},
   "outputs": [],
   "source": [
    "def get_fitness(guess):\n",
    "    return sum(1 for expected, actual in zip(target, guess)\n",
    "               if expected == actual)\n"
   ]
  },
  {
   "attachments": {},
   "cell_type": "markdown",
   "metadata": {},
   "source": [
    "### Mutación\n",
    "\n",
    "A continuación, el sistema requiere de una forma de producir un nuevo intento mutando el actual. Es decir, \"avanzar\" una generación. La siguiente función convierte la cadena `parent` en un array, y luego reemplaza una letra del array con una elegida aleatoriamente de `geneSet`, recombinando el resultado nuevamente en una cadena de caracteres.\n"
   ]
  },
  {
   "cell_type": "code",
   "execution_count": 52,
   "metadata": {},
   "outputs": [],
   "source": [
    "def mutate(parent):\n",
    "    index = random.randrange(0, len(parent))\n",
    "    childGenes = list(parent)\n",
    "    newGene, alternate = random.sample(geneSet, 2)\n",
    "    childGenes[index] = alternate \\\n",
    "        if newGene == childGenes[index] \\\n",
    "        else newGene\n",
    "    return ''.join(childGenes)\n"
   ]
  },
  {
   "attachments": {},
   "cell_type": "markdown",
   "metadata": {},
   "source": [
    "Se usa un reemplazo alternativo en caso de que `newGene` (seleccionado aleatoriamente) sea igual al que se supone que reemplazará, para prevenir un número significativo de cromosomas irrelevantes.\n"
   ]
  },
  {
   "attachments": {},
   "cell_type": "markdown",
   "metadata": {},
   "source": [
    "### Mostrando resultados\n",
    "\n",
    "Queremos monitorear el paso a paso del algoritmo para tener una noción de su avance y sacar conclusiones. Una representación visual de la secuencia genética suele ser crítico para identificar qué funciona y qué no, para que el algoritmo pueda ser mejorado.\n",
    "\n",
    "En nuestro caso, mostraremos también el valor de fitness y cuánto tiempo transcurrió.\n"
   ]
  },
  {
   "cell_type": "code",
   "execution_count": 53,
   "metadata": {},
   "outputs": [],
   "source": [
    "import datetime\n",
    "\n",
    "\n",
    "def display(guess, startTime):\n",
    "    timeDiff = datetime.datetime.now() - startTime\n",
    "    fitness = get_fitness(guess)\n",
    "    print(\"{0}\\t{1}\\t{2}\".format(guess, fitness, str(timeDiff)))\n"
   ]
  },
  {
   "attachments": {},
   "cell_type": "markdown",
   "metadata": {},
   "source": [
    "Pasemos a poner en práctica nuestro algoritmo y analizar los resultados obtenidos.\n",
    "En esencia, el algoritmo consistirá de los siguientes pasos:\n",
    "\n",
    "1. Generar un cromosoma aleatorio.\n",
    "2. Obtener el valor `fitness` para ese cromosoma.\n",
    "3. Comparar el valor `fitness` obtenido con el del cromosoma de la generación anterior.\n",
    "4. Conservar el intento con mejor `fitness` (Selección Natural).\n",
    "\n",
    "Esto se repite en un ciclo hasta que ocurra una condición de corte, que en nuestro caso es haber encontrado la contraseña correcta (`fitness = 12`).\n"
   ]
  },
  {
   "cell_type": "code",
   "execution_count": 54,
   "metadata": {},
   "outputs": [
    {
     "name": "stdout",
     "output_type": "stream",
     "text": [
      "cQFjvMg!OSHK\t0\t0:00:00.000095\n",
      "cQFjvMg!OlHK\t1\t0:00:00.000223\n",
      "cQFjvMg!OldK\t2\t0:00:00.000252\n",
      "cQFjvMW!OldK\t3\t0:00:00.000357\n",
      "ceFjvMW!OldK\t4\t0:00:00.000578\n",
      "ceFjoMW!OldK\t5\t0:00:00.000984\n",
      "ceFjoMW!rldK\t6\t0:00:00.001239\n",
      "celjoMW!rldK\t7\t0:00:00.001372\n",
      "celjoMW!rld!\t8\t0:00:00.001612\n",
      "HeljoMW!rld!\t9\t0:00:00.002061\n",
      "HeljoMWorld!\t10\t0:00:00.002233\n",
      "Heljo World!\t11\t0:00:00.002894\n",
      "Hello World!\t12\t0:00:00.003584\n"
     ]
    }
   ],
   "source": [
    "random.seed()\n",
    "startTime = datetime.datetime.now()\n",
    "bestParent = generate_parent(len(target))\n",
    "bestFitness = get_fitness(bestParent)\n",
    "display(bestParent, startTime)\n",
    "\n",
    "while True:\n",
    "    child = mutate(bestParent)\n",
    "    childFitness = get_fitness(child)\n",
    "    if bestFitness >= childFitness:\n",
    "        continue\n",
    "    display(child, startTime)\n",
    "    if childFitness >= len(bestParent):\n",
    "        break\n",
    "    bestFitness = childFitness\n",
    "    bestParent = child\n"
   ]
  },
  {
   "attachments": {},
   "cell_type": "markdown",
   "metadata": {},
   "source": [
    "Vemos que obtener una contraseña sencilla con este elemental algoritmo genético tomó poco más de 1 centésima de segundo.\n"
   ]
  },
  {
   "attachments": {},
   "cell_type": "markdown",
   "metadata": {},
   "source": [
    "## Solución al Problema de la Mochila usando un algoritmo genético\n",
    "\n",
    "A continuación, un ejemplo más difícil que nos permitirá ver con más claridad la potencia de esta técnica: el Problema de la Mochila.\n",
    "\n",
    "Partimos del problema clásico: tenemos un conjunto de ítems que queremos guardar en una mochila. Para cada ítem, conocemos su peso y le agregamos un valor que representa la importancia de ese ítem. Por otro lado tenemos una mochila, que tiene un límite de peso que puede soportar. Queremos construir un algoritmo que nos permita encontrar la combinación de ítems a meter en la mochila, de forma tal que se maximice el valor total sin exceder el límite de peso.\n",
    "\n",
    "Comencemos por la representación genética de una solución: aquí nuestra _población_ son todas las posibles combinaciones de los ítems disponibles, donde cada una de ellas es un _cromosoma_.\n",
    "\n",
    "Si bien Python es un lenguaje de tipado dinámico que no obliga a explicitar los tipos, lo haremos con la biblioteca [`typing`](https://docs.python.org/3/library/typing.html) para favorecer la claridad y comprensión del código al introducir el vocabulario específico del dominio de los algoritmos genéticos.\n"
   ]
  },
  {
   "cell_type": "code",
   "execution_count": 55,
   "metadata": {},
   "outputs": [],
   "source": [
    "from typing import Callable, List, NamedTuple, Tuple\n",
    "\n",
    "# type declaration\n",
    "Genome = List[int]\n",
    "Population = List[Genome]\n",
    "FitnessFunction = Callable[[Genome], int]\n",
    "PopulateFunction = Callable[[], Population]\n",
    "SelectionFunction = Callable[[Population,\n",
    "                              FitnessFunction], Tuple[Genome, Genome]]\n",
    "CrossoverFunction = Callable[[Genome, Genome], Tuple[Genome, Genome]]\n",
    "MutationFunction = Callable[[Genome], Genome]\n",
    "Item = NamedTuple(\n",
    "    'Item', [('name', str), ('value', float), ('weight', float)])\n"
   ]
  },
  {
   "attachments": {},
   "cell_type": "markdown",
   "metadata": {},
   "source": [
    "Como en todos los problemas combinatorios, una de las dificultades para encontrar soluciones óptimas reside en la magnitud del conjunto de soluciones posibles. Este problema no es la excepción, ya que a medida que crece la cantidad de cosas que nos interesaría llevar en la mochila, crece exponencialmente la cantidad de combinaciones posible.\n",
    "\n",
    "Es por esto que para la generación 0 usaremos una población de tamaño fijo, construida a partir de genomas generados aleatoriamente.\n"
   ]
  },
  {
   "cell_type": "code",
   "execution_count": 56,
   "metadata": {},
   "outputs": [],
   "source": [
    "from random import choices\n",
    "\n",
    "\n",
    "def generate_genome(length: int) -> Genome:\n",
    "    return choices([0, 1], k=length)\n",
    "\n",
    "\n",
    "def generate_population(size: int, genome_length: int) -> Population:\n",
    "    return [generate_genome(genome_length) for _ in range(size)]\n"
   ]
  },
  {
   "attachments": {},
   "cell_type": "markdown",
   "metadata": {},
   "source": [
    "Para la función de fitness nos aseguraremos que el genoma tenga tantos genes como elementos queremos seleccionar para meter en la mochila, y luego calcularemos el valor total de los elementos que ese genoma inserta en la mochila como la suma de los valores de cada ítem individual. Si la combinación del genoma dado excede el límite de peso, el valor total es 0 para descartar fácilmente ese genoma.\n"
   ]
  },
  {
   "cell_type": "code",
   "execution_count": 57,
   "metadata": {},
   "outputs": [],
   "source": [
    "def fitness(genome: Genome, items: List[Item], weight_limit: float) -> float:\n",
    "    if len(genome) != len(items):\n",
    "        raise ValueError(\"Genome length must be equal to number of items\")\n",
    "    weight = 0\n",
    "    value = 0\n",
    "\n",
    "    for i, item in enumerate(items):\n",
    "        if genome[i] == 1:\n",
    "            weight += item.weight\n",
    "            value += item.value\n",
    "\n",
    "            if weight > weight_limit:\n",
    "                return 0\n",
    "\n",
    "    return value\n"
   ]
  },
  {
   "attachments": {},
   "cell_type": "markdown",
   "metadata": {},
   "source": [
    "A continuación construiremos una función de selección, que nos servirá para seleccionar a los mejores cromosomas de una población, que serán los que luego tendrán descendencia. Usaremos nuevamente la función choices(), pero esta vez la distribución de probabilidad no será uniforme sino que estará determinada por la función de fitness, para favorecer la selección de aquellos genomas más \"aptos\".\n"
   ]
  },
  {
   "cell_type": "code",
   "execution_count": 58,
   "metadata": {},
   "outputs": [],
   "source": [
    "def selection_pair(population: Population, fitness_function: FitnessFunction) -> Population:\n",
    "    return choices(population=population, weights=[fitness_function(genome) for genome in population], k=2)\n"
   ]
  },
  {
   "attachments": {
    "image.png": {
     "image/png": "[encoded data removed]"
    }
   },
   "cell_type": "markdown",
   "metadata": {},
   "source": [
    "Ahora necesitamos una función de crossover, que nos permita combinar dos genomas para producir dos genomas nuevos (su descendencia), donde cada hijo contiene información genética de cada uno de sus padres. Para ello, elegiremos un punto de corte aleatorio y luego intercambiaremos los genes de cada genoma a partir de ese punto.\n",
    "\n",
    "![image.png](attachment:image.png)"
   ]
  },
  {
   "cell_type": "code",
   "execution_count": 59,
   "metadata": {},
   "outputs": [],
   "source": [
    "from random import randint\n",
    "\n",
    "\n",
    "def single_point_cross_over(parent1: Genome, parent2: Genome) -> Tuple[Genome, Genome]:\n",
    "    if len(parent1) != len(parent2):\n",
    "        raise ValueError(\"Both genomes must be of equal length\")\n",
    "    cross_over_point = randint(1, len(parent1) - 1)\n",
    "    return [parent1[:cross_over_point] + parent2[cross_over_point:], parent2[:cross_over_point] + parent1[cross_over_point:]]\n"
   ]
  },
  {
   "attachments": {},
   "cell_type": "markdown",
   "metadata": {},
   "source": [
    "Finalmente, una función de mutación que cambia uno o más genes al azar en un genoma, con una cierta probabilidad.\n"
   ]
  },
  {
   "cell_type": "code",
   "execution_count": 60,
   "metadata": {},
   "outputs": [],
   "source": [
    "from random import randrange, random\n",
    "\n",
    "\n",
    "def mutation(genome: Genome, num: int = 1, probability: float = 0.5) -> Genome:\n",
    "    for _ in range(num):\n",
    "        index = randrange(len(genome))\n",
    "        genome[index] = genome[index] if random(\n",
    "        ) > probability else abs(genome[index] - 1)\n",
    "    return genome\n"
   ]
  },
  {
   "attachments": {},
   "cell_type": "markdown",
   "metadata": {},
   "source": [
    "Ahora pondremos todas estas funciones en uso, y veremos cómo se comporta el algoritmo genético para resolver el problema de la mochila simulando la evolución de una generación inicial de cromosomas, esta vez con los operadores de selección, crossover y mutación. Vamos a aprovechar las funciones de alto orden en Python y generalizar para que la simulación de la evolución pueda realizarse con cualquier función que se reciba como parámetro. Tendremos además un límite de generaciones, para forzar un corte si el algoritmo no logra encontrar una solución óptima antes.\n"
   ]
  },
  {
   "cell_type": "code",
   "execution_count": 61,
   "metadata": {},
   "outputs": [],
   "source": [
    "def run_evolution(\n",
    "        populate_function: PopulateFunction,\n",
    "        fitness_function: FitnessFunction,\n",
    "        fitness_limit: int,\n",
    "        selection_function: SelectionFunction = selection_pair,\n",
    "        crossover_function: CrossoverFunction = single_point_cross_over,\n",
    "        mutation_function: MutationFunction = mutation,\n",
    "        generation_limit: int = 100,\n",
    ") -> Tuple[Population, int]:\n",
    "    population = populate_function()\n",
    "    for i in range(generation_limit):\n",
    "        population = sorted(\n",
    "            population, key=lambda genome: fitness_function(genome), reverse=True)\n",
    "        if fitness_function(population[0]) >= fitness_limit:\n",
    "            return population, i\n",
    "        next_generation = population[0:2]\n",
    "\n",
    "        for j in range(int(len(population) - 2) - 1):\n",
    "            parents = selection_function(population, fitness_function)\n",
    "            children = crossover_function(parents[0], parents[1])\n",
    "            children = [mutation_function(child) for child in children]\n",
    "            next_generation.extend(children)\n",
    "        population = next_generation\n",
    "\n",
    "    population = sorted(\n",
    "        population, key=lambda genome: fitness_function(genome), reverse=True\n",
    "    )\n",
    "\n",
    "    return population, i\n"
   ]
  },
  {
   "cell_type": "code",
   "execution_count": 85,
   "metadata": {},
   "outputs": [
    {
     "name": "stdout",
     "output_type": "stream",
     "text": [
      "Number of generations: 0\n",
      "Time: 0.00010013580322265625s\n",
      "Best solution:  ['Laptop', 'Headphones', 'Coffee Mug', 'Water Bottle']\n",
      "Weight 2902\n",
      "Value 740\n"
     ]
    }
   ],
   "source": [
    "from functools import partial\n",
    "import time\n",
    "\n",
    "items = [\n",
    "    Item('Laptop', 500, 2200),\n",
    "    Item('Headphones', 150, 160),\n",
    "    Item('Coffee Mug', 60, 350),\n",
    "    Item('Notepad', 40, 333),\n",
    "    Item('Water Bottle', 30, 192),\n",
    "]\n",
    "\n",
    "start = time.time()\n",
    "population, generations = run_evolution(\n",
    "    populate_function=partial(\n",
    "        generate_population, size=10, genome_length=len(items)),\n",
    "    fitness_function=partial(fitness, items=items, weight_limit=3000),\n",
    "    fitness_limit=740,\n",
    "    generation_limit=100\n",
    ")\n",
    "end = time.time()\n",
    "\n",
    "print(f\"Number of generations: {generations}\")\n",
    "print(f\"Time: {end - start}s\")\n",
    "print(f\"Best solution: \", [items[i].name for i,\n",
    "      item in enumerate(population[0]) if item == 1])\n",
    "print(f\"Weight\", sum([items[i].weight for i,\n",
    "      item in enumerate(population[0]) if item == 1]))\n",
    "print(f\"Value\", sum([items[i].value for i,\n",
    "      item in enumerate(population[0]) if item == 1]))\n"
   ]
  },
  {
   "cell_type": "code",
   "execution_count": 86,
   "metadata": {},
   "outputs": [
    {
     "name": "stdout",
     "output_type": "stream",
     "text": [
      "Number of generations: 5\n",
      "Time: 0.012269973754882812s\n",
      "Best solution:  ['Candy', 'Socks', 'Tissues', 'Phone', 'Hat', 'Laptop', 'Headphones', 'Water Bottle']\n",
      "Weight 2965\n",
      "Value 1310\n"
     ]
    }
   ],
   "source": [
    "more_items = [\n",
    "    Item('Candy', 5, 25),\n",
    "    Item('Socks', 10, 38),\n",
    "    Item('Tissues', 15, 80),\n",
    "    Item('Phone', 500, 200),\n",
    "    Item('Hat', 100, 70)\n",
    "] + items\n",
    "\n",
    "start = time.time()\n",
    "population, generations = run_evolution(\n",
    "    populate_function=partial(\n",
    "        generate_population, size=10, genome_length=len(more_items)),\n",
    "    fitness_function=partial(fitness, items=more_items, weight_limit=3000),\n",
    "    fitness_limit=1310,\n",
    "    generation_limit=100\n",
    ")\n",
    "end = time.time()\n",
    "\n",
    "print(f\"Number of generations: {generations}\")\n",
    "print(f\"Time: {end - start}s\")\n",
    "print(f\"Best solution: \", [more_items[i].name for i,\n",
    "      item in enumerate(population[0]) if item == 1])\n",
    "print(f\"Weight\", sum([more_items[i].weight for i,\n",
    "      item in enumerate(population[0]) if item == 1]))\n",
    "print(f\"Value\", sum([more_items[i].value for i,\n",
    "      item in enumerate(population[0]) if item == 1]))\n"
   ]
  },
  {
   "attachments": {},
   "cell_type": "markdown",
   "metadata": {},
   "source": [
    "## Bibliografía\n",
    "\n",
    "- R. Poli, W. B. Langdon, and N. F. McPhee. _A field guide to genetic programming_. 2008. (With contributions by J. R. Koza). Publicado via http://lulu.com y disponible gratuitamente en http://www.gp-field-guide.org.uk\n",
    "- M. Mitchell. _An introduction to genetic algorithms_. MIT Press, 1999.\n",
    "- Frances Buontempo. _Genetic Algorithms and Machine Learning for Programmers_. The Pragmatic Bookshelf, Raleigh, NC, 2019."
   ]
  },
  {
   "attachments": {},
   "cell_type": "markdown",
   "metadata": {},
   "source": [
    "## Algunos casos de estudio interesantes\n",
    "\n",
    "### Geijtenbeek, van de Panne, van der Stappen. 2013. Flexible Muscle-Based Locomotion for Bipedal Creatures. [PDF](https://www.goatstream.com/research/papers/SA2013/).\n",
    "\n",
    "En este trabajo se utiliza un algoritmo genético para definir un método de control basado en músculos y huesos para simular la locomoción de una variedad de bípedos. El algoritmo se encarga de distribuir los huesos y músculos dentro del cuerpo (que ya tiene una geometría previamente definida) y la forma de controlarlos para que el bípedo pueda caminar de forma natural. Luego se utiliza para generar movimientos más complejos como correr, saltar, etc. en distintos tipos de terrenos.\n",
    "Un buen resumen de este trabajo se puede encontrar en: https://www.youtube.com/watch?v=kQ2bqz3HPJE\n",
    "\n",
    "### Hornby, Globus, Linden, Lohn. 2006. Automated Antenna Design with Evolutionary Algorithms. [PDF](http://alglobus.net/NASAwork/papers/Space2006Antenna.pdf).\n",
    "\n",
    "En este trabajo se utilizan algoritmos genéticos para automatizar y optimizar el diseño de antenas de radiofrecuencia para misiones espaciales. El algoritmo genético se encarga de definir la geometría de la antena, la forma de alimentarla y la forma de controlarla para que pueda transmitir y recibir señales de radiofrecuencia."
   ]
  },
  {
   "cell_type": "markdown",
   "metadata": {},
   "source": []
  }
 ],
 "metadata": {
  "kernelspec": {
   "display_name": "Python 3",
   "language": "python",
   "name": "python3"
  },
  "language_info": {
   "codemirror_mode": {
    "name": "ipython",
    "version": 3
   },
   "file_extension": ".py",
   "mimetype": "text/x-python",
   "name": "python",
   "nbconvert_exporter": "python",
   "pygments_lexer": "ipython3",
   "version": "3.11.2"
  },
  "orig_nbformat": 4,
  "vscode": {
   "interpreter": {
    "hash": "5c7b89af1651d0b8571dde13640ecdccf7d5a6204171d6ab33e7c296e100e08a"
   }
  }
 },
 "nbformat": 4,
 "nbformat_minor": 2
}
