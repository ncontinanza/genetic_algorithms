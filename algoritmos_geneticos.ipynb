{
 "cells": [
  {
   "attachments": {},
   "cell_type": "markdown",
   "metadata": {},
   "source": [
    "# Inteligencia Artificial\n",
    "\n",
    "## Algoritmos Genéticos\n",
    "\n",
    "### Integrantes\n",
    "\n",
    "- Aldana S. Cardoso Rastrelli - 98.408\n",
    "- Nicolás Continanza - 97.576\n"
   ]
  },
  {
   "attachments": {},
   "cell_type": "markdown",
   "metadata": {},
   "source": [
    "## Breve Marco Histórico\n",
    "\n",
    "Dentro del campo de la Inteligencia Artificial y la resolución automática de problemas, en la década del '60 John Holland y su equipo de la Universidad de Michigan presentan los algoritmos genéticos, inspirados en la evolución biológica y la selección natural para problemas computacionales y de investigación operativa. El objetivo original de Holland no era el diseño de algoritmos para la resolución de problemas específicos, sino el estudio formal del fenómeno de adaptación como sucede en la naturaleza y el desarrollo de técnicas y métodos para importar mecanismos de adaptación natural a sistemas de computadoras.\n",
    "\n",
    "En su libro _Adaptation in Natural and Artificial Systems (1975)_, Holland presenta un algoritmo genético como un método para pasar de una población de \"cromosomas\" (un conjunto de bits) a una nueva población evolucionada, mediante un proceso de selección natural junto con un conjunto de operadores inspirados en la genética (entrecruzamiento, mutación e inversión). Cada cromosoma consiste de \"genes\" (bits), cada uno siendo una instancia de un \"alelo\" (0 ó 1). El operador de selección elige aquellos cromosomas de la población que podrán reproducirse, y en promedio los cromosomas más aptos producen más descendencia que los menos aptos. El operador de crossover (entrecruzamiento, también llamado recombinación en buena parte de la literatura) intercambia subpartes de dos cromosomas, imitando la recombinación cromosómica entre dos haploides (células con un solo juego de cromosomas). El operador de mutación cambia aleatoriamente el valor de los alelos de algunas posiciones en el cromosoma. Y el operador de inversión invierte el orden de una sección contigua del cromosoma, cambiando el orden de los genes.\n",
    "\n",
    "Con el pasar de los años hubo una amplia interacción entre investigadores que se dedicaron a estudiar variados métodos evolutivos computacionales, corriendo cada vez más los límites entre algoritmos genéticos, estrategias evolutivas y programación evolutiva, al punto de que al día de hoy el término _algoritmo genético_ se utiliza para describir cosas bastante lejanas a la concepción original de Holland, incorporando técnicas de machine learning para encontrar buenas (y a veces incluso óptimas) soluciones a problemas combinatorios con una inmensa cantidad de soluciones posibles.\n"
   ]
  },
  {
   "attachments": {},
   "cell_type": "markdown",
   "metadata": {},
   "source": [
    "## Algunas definiciones básicas\n",
    "\n",
    "Comencemos con unas pocas y breves definiciones, que nos servirán para introducir un primer ejemplo utilizando el vocabulario específico del tema.\n",
    "\n",
    "#### Población\n",
    "\n",
    "Dado un problema combinatorio, en el contexto de Algoritmos Genéticos llamaremos _población_ al conjunto de soluciones posibles para ese problema. En el marco de este Trabajo Práctico, ese conjunto siempre será discreto y finito.\n",
    "\n",
    "#### Cromosoma\n",
    "\n",
    "Un _Cromosoma_, _Individuo_ o _Genotipo_ (los tres términos se utilizan como sinónimos en la literatura) es un elemento particular de la población. Se lo suele representar como una combinación de bits, a la que se denomina _Genoma_.\n",
    "\n",
    "#### Gen\n",
    "\n",
    "Si consideramos un cromosoma como una combinación de bits, llamaremos _Gen_ a cada posición de esa combinación. Sus posibles valores, 0 ó 1, son conocidos como _Alelos_.\n"
   ]
  },
  {
   "attachments": {},
   "cell_type": "markdown",
   "metadata": {},
   "source": [
    "## Un primer ejemplo\n",
    "\n",
    "Los algoritmos genéticos utilizan la exploración aleatoria del espacio del problema, combinando procesos evolutivos como la mutación y el crossover para mejorar las conjeturas. Pero también, al no tener experiencia en el dominio del problema, intentan cosas que un humano nunca intentaría. De esta manera, una persona usando un algoritmo genético puede aprender más acerca del espacio del problema y potenciales soluciones, pudiendo así realizar mejoras al algoritmo en un círculo virtuoso.\n",
    "\n",
    "Tomemos como ejemplo inicial el ejercicio de adivinar una contraseña. Para simplificar el problema y poner el foco en lo que nos interesa, conocemos de antemano la longitud de la contraseña. Para ayudar a introducir algunos conceptos iniciales, después de cada intento tendremos la posibilidad de saber cuántas letras estaban en la posición correcta. Por ejemplo, si la contraseña es \"Hello World!\" y se intenta con la cadena \"World!Hello?\" se obtendrá el número 2, ya que solo la cuarta letra de cada palabra está en la posición correcta.\n",
    "\n",
    "Pseudocódigo:\n",
    "\n",
    "```\n",
    "_letters = [a..zA..Z !]\n",
    "target = \"Hello World!\"\n",
    "guess = get 12 random letters from _letters\n",
    "while guess != target:\n",
    "  index = get random value from [0..length of target]\n",
    "  guess[index] = get 1 random value from _letters\n",
    "```\n",
    "\n",
    "### Genes\n",
    "\n",
    "Para comenzar, los algoritmos genéticos necesitan un set de genes para construir las posibles soluciones. Para este ejemplo inicial, el set de genes serán las letras del abecedario, y los caracteres `' '`, `'!'`, `'?'`, `','` y `'.'`. También es necesario un target (la contraseña a adivinar):\n"
   ]
  },
  {
   "cell_type": "code",
   "execution_count": 3,
   "metadata": {},
   "outputs": [],
   "source": [
    "geneSet = \" abcdefghijklmnopqrstuvwxyzABCDEFGHIJKLMNOPQRSTUVWXYZ!.,?\"\n",
    "target = \"Hello World!\"\n"
   ]
  },
  {
   "attachments": {},
   "cell_type": "markdown",
   "metadata": {},
   "source": [
    "A continuación, el algoritmo deberá tener una manera de generar una cadena aleatoria a partir del set de genes, que será el punto de partida del proceso evolutivo. Por eso se lo llama _Generación 0_.\n"
   ]
  },
  {
   "cell_type": "code",
   "execution_count": 4,
   "metadata": {},
   "outputs": [],
   "source": [
    "import random\n",
    "import seaborn as sns\n",
    "import matplotlib.pyplot as plt\n",
    "import pandas as pd\n",
    "\n",
    "def generate_parent(length):\n",
    "    genes = []\n",
    "    while len(genes) < length:\n",
    "        sampleSize = min(length - len(genes), len(geneSet))\n",
    "        genes.extend(random.sample(geneSet, sampleSize))\n",
    "    return ''.join(genes)\n"
   ]
  },
  {
   "attachments": {},
   "cell_type": "markdown",
   "metadata": {},
   "source": [
    "La función `random.sample()` toma una cantidad `sampleSize` de valores de la entrada sin reposición. Por lo tanto no habrá valores repetidos en el parent generado, salvo que `geneSet` contenga repetidos o `length` sea mayor que `len(geneSet)`. Esta implementación puede generar una larga cadena de caracteres a partir de un pequeño conjunto de genes, y usa tantos genes únicos como sea posible.\n"
   ]
  },
  {
   "attachments": {},
   "cell_type": "markdown",
   "metadata": {},
   "source": [
    "### Función de Aptitud (Fitness Function)\n",
    "\n",
    "El valor de fitness que provee el algoritmo genético es el único feedback que el sistema obtiene para guiarse hacia una solución. En este ejemplo, el valor de fitness es la cantidad total de letras en un intento que coinciden con la letra del target en la misma posición. Es decir, la cantidad de genes que están en la posición correcta del genoma que representa la solución.\n"
   ]
  },
  {
   "cell_type": "code",
   "execution_count": 418,
   "metadata": {},
   "outputs": [],
   "source": [
    "def get_fitness(guess, target):\n",
    "    return sum(1 for expected, actual in zip(target, guess)\n",
    "               if expected == actual)\n"
   ]
  },
  {
   "attachments": {},
   "cell_type": "markdown",
   "metadata": {},
   "source": [
    "### Mutación\n",
    "\n",
    "A continuación, el sistema requiere de una forma de producir un nuevo intento mutando el actual. Es decir, \"avanzar\" una generación. La siguiente función convierte la cadena `parent` en un array, y luego reemplaza una letra del array con una elegida aleatoriamente de `geneSet`, recombinando el resultado nuevamente en una cadena de caracteres.\n"
   ]
  },
  {
   "cell_type": "code",
   "execution_count": 419,
   "metadata": {},
   "outputs": [],
   "source": [
    "def mutate(parent):\n",
    "    index = random.randrange(0, len(parent))\n",
    "    childGenes = list(parent)\n",
    "    newGene, alternate = random.sample(geneSet, 2)\n",
    "    childGenes[index] = alternate \\\n",
    "        if newGene == childGenes[index] \\\n",
    "        else newGene\n",
    "    return ''.join(childGenes)\n"
   ]
  },
  {
   "attachments": {},
   "cell_type": "markdown",
   "metadata": {},
   "source": [
    "Se usa un reemplazo alternativo en caso de que `newGene` (seleccionado aleatoriamente) sea igual al que se supone que reemplazará, para prevenir un número significativo de cromosomas irrelevantes.\n"
   ]
  },
  {
   "attachments": {},
   "cell_type": "markdown",
   "metadata": {},
   "source": [
    "### Mostrando resultados\n",
    "\n",
    "Queremos monitorear el paso a paso del algoritmo para tener una noción de su avance y sacar conclusiones. Una representación visual de la secuencia genética suele ser crítico para identificar qué funciona y qué no, para que el algoritmo pueda ser mejorado.\n",
    "\n",
    "En nuestro caso, mostraremos también el valor de fitness y cuánto tiempo transcurrió.\n"
   ]
  },
  {
   "cell_type": "code",
   "execution_count": 420,
   "metadata": {},
   "outputs": [],
   "source": [
    "import datetime\n",
    "\n",
    "\n",
    "def display(guess, startTime, target):\n",
    "    timeDiff = datetime.datetime.now() - startTime\n",
    "    fitness = get_fitness(guess, target)\n",
    "    print(\"{0}\\t{1}\\t{2}\".format(guess, fitness, str(timeDiff)))\n"
   ]
  },
  {
   "attachments": {},
   "cell_type": "markdown",
   "metadata": {},
   "source": [
    "Pasemos a poner en práctica nuestro algoritmo y analizar los resultados obtenidos.\n",
    "En esencia, el algoritmo consistirá de los siguientes pasos:\n",
    "\n",
    "1. Generar un cromosoma aleatorio.\n",
    "2. Obtener el valor `fitness` para ese cromosoma.\n",
    "3. Comparar el valor `fitness` obtenido con el del cromosoma de la generación anterior.\n",
    "4. Conservar el intento con mejor `fitness` (Selección Natural).\n",
    "\n",
    "Esto se repite en un ciclo hasta que ocurra una condición de corte, que en nuestro caso es haber encontrado la contraseña correcta (`fitness = 12`).\n"
   ]
  },
  {
   "cell_type": "code",
   "execution_count": 421,
   "metadata": {},
   "outputs": [
    {
     "name": "stdout",
     "output_type": "stream",
     "text": [
      "RYIKcvPkdCUF\t0\t0:00:00.000050\n",
      "HYIKcvPkdCUF\t1\t0:00:00.000538\n",
      "HYIKcvWkdCUF\t2\t0:00:00.000586\n",
      "HYIKcvWkrCUF\t3\t0:00:00.000918\n",
      "HYIKcvWkrCU!\t4\t0:00:00.000945\n",
      "HYIKovWkrCU!\t5\t0:00:00.001094\n",
      "HYlKovWkrCU!\t6\t0:00:00.001488\n",
      "HelKovWkrCU!\t7\t0:00:00.001859\n",
      "HelKovWkrlU!\t8\t0:00:00.002549\n",
      "HellovWkrlU!\t9\t0:00:00.002741\n",
      "Hello WkrlU!\t10\t0:00:00.002824\n",
      "Hello Wkrld!\t11\t0:00:00.006825\n",
      "Hello World!\t12\t0:00:00.011018\n",
      "Generations: 2531\n"
     ]
    }
   ],
   "source": [
    "def run_example(example_target, display_res: bool):\n",
    "    generations = 0\n",
    "    random.seed()\n",
    "    startTime = datetime.datetime.now()\n",
    "    bestParent = generate_parent(len(example_target))\n",
    "    bestFitness = get_fitness(bestParent, example_target)\n",
    "    if display_res:\n",
    "        display(bestParent, startTime, example_target)\n",
    "    childFitness = bestFitness\n",
    "\n",
    "    while childFitness < len(bestParent):\n",
    "        generations += 1\n",
    "        child = mutate(bestParent)\n",
    "        childFitness = get_fitness(child, example_target)\n",
    "        if bestFitness >= childFitness:\n",
    "            continue\n",
    "        if display_res:\n",
    "            display(child, startTime, example_target)\n",
    "        bestFitness = childFitness\n",
    "        bestParent = child\n",
    "\n",
    "    return generations\n",
    "\n",
    "print(f\"Generations: {run_example(target, True)}\")"
   ]
  },
  {
   "attachments": {},
   "cell_type": "markdown",
   "metadata": {},
   "source": [
    "Vemos que obtener una contraseña sencilla con este elemental algoritmo genético tomó poco más de 1 centésima de segundo.\n",
    "Probamos con otros targets sencillos:\n"
   ]
  },
  {
   "cell_type": "code",
   "execution_count": 36,
   "metadata": {},
   "outputs": [],
   "source": [
    "ex_targets = [\"Hello World!\", \"It is alive!\", \"Lorem ipsum\", \"I am your father\", \"Aloha means family\", \"Use the force\", \"I am not a robot\"]\n",
    "\n",
    "def make_df(col1_name, col2_name, x, y):\n",
    "        \"\"\"Quickly make a DataFrame\"\"\"\n",
    "        data = {col1_name:x,col2_name:y}\n",
    "        return pd.DataFrame(data)"
   ]
  },
  {
   "cell_type": "code",
   "execution_count": 422,
   "metadata": {},
   "outputs": [
    {
     "name": "stdout",
     "output_type": "stream",
     "text": [
      "Target: Hello World!\n",
      "Target: It is alive!\n",
      "Target: Lorem ipsum\n",
      "Target: I am your father\n",
      "Target: Aloha means family\n",
      "Target: Use the force\n",
      "Target: I am not a robot\n"
     ]
    },
    {
     "data": {
      "image/png": "[encoded data removed]",
      "text/plain": [
       "<Figure size 640x480 with 1 Axes>"
      ]
     },
     "metadata": {},
     "output_type": "display_data"
    }
   ],
   "source": [
    "def plot_results_for(targets):\n",
    "    children_results = []\n",
    "    sample_size = 100\n",
    "\n",
    "    for tgt in targets:\n",
    "        print(f\"Target: {tgt}\")\n",
    "        child_result = []\n",
    "        for i in range(sample_size):\n",
    "            child_result.append(run_example(tgt, False))\n",
    "        children_results.append(sum(child_result) / sample_size)\n",
    "\n",
    "    lens = [len(t) for t in targets]\n",
    "\n",
    "    df = make_df(\"len\", \"generations\", lens,children_results)\n",
    "\n",
    "    sns.regplot(df, x= \"len\", y=\"generations\")\n",
    "    plt.show()\n",
    "\n",
    "plot_results_for(ex_targets)"
   ]
  },
  {
   "attachments": {},
   "cell_type": "markdown",
   "metadata": {},
   "source": [
    "Vemos que la cantidad de mutaciones necesarias para encontrar la solución se relaciona de forma proporcional con la cantidad de caracteres que tiene la contraseña. Vamos a probar con contraseñas más largas:"
   ]
  },
  {
   "cell_type": "code",
   "execution_count": 423,
   "metadata": {},
   "outputs": [
    {
     "name": "stdout",
     "output_type": "stream",
     "text": [
      "Target: Lorem\n",
      "Target: Lorem ipsum\n",
      "Target: Lorem ipsum dolor\n",
      "Target: Lorem ipsum dolor sit\n",
      "Target: Lorem ipsum dolor sit amet\n",
      "Target: Lorem ipsum dolor sit amet consectetur\n",
      "Target: Lorem ipsum dolor sit amet consectetur adipiscing\n",
      "Target: Lorem ipsum dolor sit amet consectetur adipiscing elit.\n",
      "Target: Lorem ipsum dolor sit amet consectetur adipiscing elit. Proin\n",
      "Target: Lorem ipsum dolor sit amet consectetur adipiscing elit. Proin pharetra\n",
      "Target: Lorem ipsum dolor sit amet consectetur adipiscing elit. Proin pharetra dapibus\n",
      "Target: Lorem ipsum dolor sit amet consectetur adipiscing elit. Proin pharetra dapibus bibendum.\n"
     ]
    },
    {
     "data": {
      "image/png": "[encoded data removed]",
      "text/plain": [
       "<Figure size 640x480 with 1 Axes>"
      ]
     },
     "metadata": {},
     "output_type": "display_data"
    }
   ],
   "source": [
    "long_targets = [\"Lorem\", \"Lorem ipsum\", \"Lorem ipsum dolor\", \"Lorem ipsum dolor sit\", \"Lorem ipsum dolor sit amet\", \"Lorem ipsum dolor sit amet consectetur\", \"Lorem ipsum dolor sit amet consectetur adipiscing\", \"Lorem ipsum dolor sit amet consectetur adipiscing elit.\", \"Lorem ipsum dolor sit amet consectetur adipiscing elit. Proin\", \"Lorem ipsum dolor sit amet consectetur adipiscing elit. Proin pharetra\", \"Lorem ipsum dolor sit amet consectetur adipiscing elit. Proin pharetra dapibus\", \"Lorem ipsum dolor sit amet consectetur adipiscing elit. Proin pharetra dapibus bibendum.\"]\n",
    "plot_results_for(long_targets)"
   ]
  },
  {
   "attachments": {},
   "cell_type": "markdown",
   "metadata": {},
   "source": [
    "Vemos el algoritmo se comporta de forma lineal, y para una contraseña que tiene 3 veces más de caracteres, se necesitan 3.85 veces más de generaciones en el peor caso para encontrar la solución. La cantidad de generaciones respecto de longitud de caracteres sigue teniendo una buena relación; pero vemos que a mayor cantidad de caracteres también aumenta la cantidad de generaciones y, por lo tanto, también el tiempo de respuesta del mismo."
   ]
  },
  {
   "attachments": {},
   "cell_type": "markdown",
   "metadata": {},
   "source": [
    "## Solución al Problema de la Mochila usando un algoritmo genético\n",
    "\n",
    "A continuación, un ejemplo más difícil que nos permitirá ver con más claridad la potencia de esta técnica: el Problema de la Mochila.\n",
    "\n",
    "Partimos del problema clásico: tenemos un conjunto de ítems que queremos guardar en una mochila. Para cada ítem, conocemos su peso y le agregamos un valor que representa la importancia de ese ítem. Por otro lado tenemos una mochila, que tiene un límite de peso que puede soportar. Queremos construir un algoritmo que nos permita encontrar la combinación de ítems a meter en la mochila, de forma tal que se maximice el valor total sin exceder el límite de peso.\n",
    "\n",
    "Comencemos por la representación genética de una solución: aquí nuestra _población_ son todas las posibles combinaciones de los ítems disponibles, donde cada una de ellas es un _cromosoma_.\n",
    "\n",
    "Si bien Python es un lenguaje de tipado dinámico que no obliga a explicitar los tipos, lo haremos con la biblioteca [`typing`](https://docs.python.org/3/library/typing.html) para favorecer la claridad y comprensión del código al introducir el vocabulario específico del dominio de los algoritmos genéticos.\n"
   ]
  },
  {
   "cell_type": "code",
   "execution_count": 424,
   "metadata": {},
   "outputs": [],
   "source": [
    "from typing import Callable, List, NamedTuple, Tuple\n",
    "\n",
    "# type declaration\n",
    "Genome = List[int]\n",
    "Population = List[Genome]\n",
    "FitnessFunction = Callable[[Genome], int]\n",
    "PopulateFunction = Callable[[], Population]\n",
    "SelectionFunction = Callable[[Population,\n",
    "                              FitnessFunction], Tuple[Genome, Genome]]\n",
    "CrossoverFunction = Callable[[Genome, Genome], Tuple[Genome, Genome]]\n",
    "MutationFunction = Callable[[Genome], Genome]\n",
    "Item = NamedTuple(\n",
    "    'Item', [('name', str), ('value', float), ('weight', float)])\n"
   ]
  },
  {
   "attachments": {},
   "cell_type": "markdown",
   "metadata": {},
   "source": [
    "Como en todos los problemas combinatorios, una de las dificultades para encontrar soluciones óptimas reside en la magnitud del conjunto de soluciones posibles. Este problema no es la excepción, ya que a medida que crece la cantidad de cosas que nos interesaría llevar en la mochila, crece exponencialmente la cantidad de combinaciones posible.\n",
    "\n",
    "Es por esto que para la generación 0 usaremos una población de tamaño fijo, construida a partir de genomas generados aleatoriamente.\n"
   ]
  },
  {
   "cell_type": "code",
   "execution_count": 425,
   "metadata": {},
   "outputs": [
    {
     "data": {
      "text/plain": [
       "[[0, 0, 1, 0, 1], [0, 0, 0, 1, 1], [1, 0, 0, 1, 1]]"
      ]
     },
     "execution_count": 425,
     "metadata": {},
     "output_type": "execute_result"
    }
   ],
   "source": [
    "from random import choices\n",
    "\n",
    "def generate_genome(length: int) -> Genome:\n",
    "    return choices([0, 1], k=length)\n",
    "\n",
    "\n",
    "def generate_population(size: int, genome_length: int) -> Population:\n",
    "    return [generate_genome(genome_length) for _ in range(size)]\n",
    "\n",
    "generate_population(3, 5)"
   ]
  },
  {
   "attachments": {},
   "cell_type": "markdown",
   "metadata": {},
   "source": [
    "Para la función de fitness nos aseguraremos que el genoma tenga tantos genes como elementos queremos seleccionar para meter en la mochila, y luego calcularemos el valor total de los elementos que ese genoma inserta en la mochila como la suma de los valores de cada ítem individual. Si la combinación del genoma dado excede el límite de peso, el valor total es 0 para descartar fácilmente ese genoma.\n"
   ]
  },
  {
   "cell_type": "code",
   "execution_count": 426,
   "metadata": {},
   "outputs": [],
   "source": [
    "def fitness(genome: Genome, items: List[Item], weight_limit: float) -> float:\n",
    "    if len(genome) != len(items):\n",
    "        raise ValueError(\"Genome length must be equal to number of items\")\n",
    "    weight = 0\n",
    "    value = 0\n",
    "\n",
    "    for i, item in enumerate(items):\n",
    "        if genome[i] == 1:\n",
    "            weight += item.weight\n",
    "            value += item.value\n",
    "\n",
    "            if weight > weight_limit:\n",
    "                return 0\n",
    "\n",
    "    return value\n"
   ]
  },
  {
   "attachments": {},
   "cell_type": "markdown",
   "metadata": {},
   "source": [
    "A continuación construiremos una función de selección, que nos servirá para seleccionar a los mejores cromosomas de una población, que serán los que luego tendrán más probabilidad de reproducirse. Usaremos nuevamente la función choices(), pero esta vez la distribución de probabilidad no será uniforme sino que estará determinada por la función de fitness, para favorecer la selección de aquellos genomas más \"aptos\".\n"
   ]
  },
  {
   "cell_type": "code",
   "execution_count": 427,
   "metadata": {},
   "outputs": [],
   "source": [
    "def selection(population: Population, fitness_function: FitnessFunction, amount: int) -> Population:\n",
    "    return choices(population=population, weights=[fitness_function(genome) for genome in population], k=amount)\n"
   ]
  },
  {
   "attachments": {
    "image-2.png": {
     "image/png": "[encoded data removed]"
    },
    "image.png": {
     "image/png": "[encoded data removed]"
    }
   },
   "cell_type": "markdown",
   "metadata": {},
   "source": [
    "Ahora necesitamos una función de crossover, que nos permita combinar dos genomas para producir dos genomas nuevos (su descendencia), donde cada hijo contiene información genética de cada uno de sus padres. Para ello, elegiremos un punto de corte aleatorio y luego intercambiaremos los genes de cada genoma a partir de ese punto.\n",
    "\n",
    "![image.png](attachment:image.png) \\\n",
    "![image.png](attachment:image-2.png)"
   ]
  },
  {
   "cell_type": "code",
   "execution_count": 479,
   "metadata": {},
   "outputs": [
    {
     "data": {
      "text/plain": [
       "[[1, 2, 3, 'd', 'e', 'f'], ['a', 'b', 'c', 4, 5, 6]]"
      ]
     },
     "execution_count": 479,
     "metadata": {},
     "output_type": "execute_result"
    }
   ],
   "source": [
    "from random import randint\n",
    "\n",
    "\n",
    "def single_point_cross_over(parent1: Genome, parent2: Genome) -> Tuple[Genome, Genome]:\n",
    "    if len(parent1) != len(parent2):\n",
    "        raise ValueError(\"Both genomes must be of equal length\")\n",
    "    cross_over_point = randint(1, len(parent1) - 1)\n",
    "    return [parent1[:cross_over_point] + parent2[cross_over_point:], parent2[:cross_over_point] + parent1[cross_over_point:]]\n",
    "\n",
    "single_point_cross_over([1,2,3,4,5,6],[\"a\",\"b\",\"c\",\"d\",\"e\",\"f\"])"
   ]
  },
  {
   "attachments": {},
   "cell_type": "markdown",
   "metadata": {},
   "source": [
    "También existe el two-point cross over. Este algoritmo, en lugar de intercambiar los genes de cada genoma a partir de un punto de corte, vamos a tomar dos puntos de corte aleatorios en cada genoma, y luego intercambiar los genes de cada genoma a partir de esos puntos. Esto se conoce como _two point crossover_."
   ]
  },
  {
   "cell_type": "code",
   "execution_count": 487,
   "metadata": {},
   "outputs": [
    {
     "name": "stdout",
     "output_type": "stream",
     "text": [
      "['1', '2', 'c', 'd', 'e', '6', '7', '8', '9', '10']\n",
      "['a', 'b', '3', '4', '5', 'f', 'g', 'h', 'i', 'j']\n"
     ]
    }
   ],
   "source": [
    "def two_point_cross_over(parent1: Genome,\n",
    "                         parent2: Genome) -> Tuple[Genome, Genome]:\n",
    "    if len(parent1) != len(parent2):\n",
    "        raise ValueError(\"Both genomes must be of equal length\")\n",
    "    cross_over_point1 = randint(1, len(parent1) - 1)\n",
    "    cross_over_point2 = randint(1, len(parent1) - 1)\n",
    "    if cross_over_point1 > cross_over_point2:\n",
    "        cross_over_point1, cross_over_point2 = cross_over_point2, cross_over_point1\n",
    "    return [\n",
    "        parent1[:cross_over_point1] +\n",
    "        parent2[cross_over_point1:cross_over_point2] +\n",
    "        parent1[cross_over_point2:], parent2[:cross_over_point1] +\n",
    "        parent1[cross_over_point1:cross_over_point2] +\n",
    "        parent2[cross_over_point2:]\n",
    "    ]\n",
    "\n",
    "tp_cross_over = two_point_cross_over([1,2,3,4,5,6,7,8,9,10],[\"a\",\"b\",\"c\",\"d\",\"e\",\"f\",\"g\",\"h\",\"i\",\"j\"])\n",
    "print([f\"{i}\" for i in tp_cross_over[0]])\n",
    "print([f\"{i}\" for i in tp_cross_over[1]])"
   ]
  },
  {
   "attachments": {
    "image.png": {
     "image/png": "[encoded data removed]"
    }
   },
   "cell_type": "markdown",
   "metadata": {},
   "source": [
    "Finalmente, una función de mutación que cambia uno o más genes al azar en un genoma, con una cierta probabilidad.\n",
    "\n",
    "![image.png](attachment:image.png)"
   ]
  },
  {
   "cell_type": "markdown",
   "metadata": {},
   "source": [
    "# Algoritmos Genéticos aplicados a Machine Learning"
   ]
  },
  {
   "cell_type": "code",
   "execution_count": 429,
   "metadata": {},
   "outputs": [],
   "source": [
    "from random import randrange, random\n",
    "\n",
    "\n",
    "def mutation(genome: Genome, num: int = 1, probability: float = 0.5) -> Genome:\n",
    "    for _ in range(num):\n",
    "        index = randrange(len(genome))\n",
    "        genome[index] = genome[index] if random() > probability else abs(\n",
    "            genome[index] - 1)\n",
    "    return genome\n"
   ]
  },
  {
   "attachments": {},
   "cell_type": "markdown",
   "metadata": {},
   "source": [
    "Ahora pondremos todas estas funciones en uso, y veremos cómo se comporta el algoritmo genético para resolver el problema de la mochila simulando la evolución de una generación inicial de cromosomas, esta vez con los operadores de selección, crossover y mutación. Vamos a aprovechar las funciones de alto orden en Python y generalizar para que la simulación de la evolución pueda realizarse con cualquier función que se reciba como parámetro. Tendremos además un límite de generaciones, para forzar un corte si el algoritmo no logra encontrar una solución óptima antes.\n",
    "\n",
    "Para el método de selección usaremos la función `selection()` que implementamos anteriormente, que es la forma de reproducción originalmente propuesta por Holland al definir los algoritmos genéticos. También agregaremos la noción de elitismo (introducida por Kenneth De Jong en 1975), que consiste en que los mejores cromosomas de la generación anterior se conserven en la siguiente generación sin mutar, para favorecer la convergencia hacia una solución óptima. En nuestro caso, tomaremos a los dos mejores cromosomas de cada generación."
   ]
  },
  {
   "cell_type": "code",
   "execution_count": 430,
   "metadata": {},
   "outputs": [],
   "source": [
    "def run_evolution(\n",
    "    populate_function: PopulateFunction,\n",
    "    fitness_function: FitnessFunction,\n",
    "    fitness_limit: int,\n",
    "    selection_function: SelectionFunction = selection,\n",
    "    crossover_function: CrossoverFunction = single_point_cross_over,\n",
    "    mutation_function: MutationFunction = mutation,\n",
    "    generation_limit: int = 100,\n",
    ") -> Tuple[Population, int]:\n",
    "    \"\"\"Returns Population and number of generations needed\"\"\"\n",
    "    population = populate_function()\n",
    "    for i in range(generation_limit):\n",
    "        population = sorted(population,\n",
    "                            key=lambda genome: fitness_function(genome),\n",
    "                            reverse=True)\n",
    "        if fitness_function(population[0]) >= fitness_limit:\n",
    "            return population, i\n",
    "        # elitism\n",
    "        next_generation = population[0:2]\n",
    "\n",
    "        for _ in range(int(len(population) - 2) - 1):\n",
    "            parents = selection_function(population, fitness_function, 2)\n",
    "            children = crossover_function(parents[0], parents[1])\n",
    "            children = [mutation_function(child) for child in children]\n",
    "            next_generation.extend(children)\n",
    "        population = next_generation\n",
    "\n",
    "    population = sorted(population,\n",
    "                        key=lambda genome: fitness_function(genome),\n",
    "                        reverse=True)\n",
    "\n",
    "    return population, i\n"
   ]
  },
  {
   "cell_type": "code",
   "execution_count": 431,
   "metadata": {},
   "outputs": [
    {
     "name": "stdout",
     "output_type": "stream",
     "text": [
      "Number of generations: 2\n",
      "Time: 0.00045013427734375s\n",
      "Best solution:  ['Laptop', 'Headphones', 'Coffee Mug', 'Water Bottle']\n",
      "Weight 2902\n",
      "Value 740\n"
     ]
    },
    {
     "data": {
      "text/plain": [
       "['Laptop', 'Headphones', 'Coffee Mug', 'Water Bottle']"
      ]
     },
     "execution_count": 431,
     "metadata": {},
     "output_type": "execute_result"
    }
   ],
   "source": [
    "from functools import partial\n",
    "import time\n",
    "\n",
    "def run_backpack_example(items, fitness_limit, generation_limit, print_stats: bool):\n",
    "\n",
    "    start = time.time()\n",
    "    population, generations = run_evolution(\n",
    "        populate_function=partial(\n",
    "            generate_population, size=10, genome_length=len(items)),\n",
    "        fitness_function=partial(fitness, items=items, weight_limit=3000),\n",
    "        fitness_limit=fitness_limit,\n",
    "        generation_limit=generation_limit\n",
    "    )\n",
    "    end = time.time()\n",
    "\n",
    "    best_solution = [items[i].name for i,\n",
    "        item in enumerate(population[0]) if item == 1]\n",
    "\n",
    "    if print_stats:\n",
    "        print(f\"Number of generations: {generations}\")\n",
    "        print(f\"Time: {end - start}s\")\n",
    "        print(f\"Best solution: \", best_solution)\n",
    "        print(f\"Weight\", sum([items[i].weight for i,\n",
    "            item in enumerate(population[0]) if item == 1]))\n",
    "        print(f\"Value\", sum([items[i].value for i,\n",
    "            item in enumerate(population[0]) if item == 1]))\n",
    "    \n",
    "    return best_solution\n",
    "\n",
    "items = [\n",
    "        Item('Laptop', 500, 2200),\n",
    "        Item('Headphones', 150, 160),\n",
    "        Item('Coffee Mug', 60, 350),\n",
    "        Item('Notepad', 40, 333),\n",
    "        Item('Water Bottle', 30, 192),\n",
    "    ]\n",
    "\n",
    "run_backpack_example(items, 740, 100, True)"
   ]
  },
  {
   "attachments": {},
   "cell_type": "markdown",
   "metadata": {},
   "source": [
    "Con una lista más grande de elementos, vemos que el número de generaciones también aumenta:"
   ]
  },
  {
   "cell_type": "code",
   "execution_count": 432,
   "metadata": {},
   "outputs": [
    {
     "name": "stdout",
     "output_type": "stream",
     "text": [
      "Number of generations: 6\n",
      "Time: 0.07184696197509766s\n",
      "Best solution:  ['Candy', 'Socks', 'Tissues', 'Phone', 'Hat', 'Laptop', 'Headphones', 'Water Bottle']\n",
      "Weight 2965\n",
      "Value 1310\n"
     ]
    },
    {
     "data": {
      "text/plain": [
       "['Candy',\n",
       " 'Socks',\n",
       " 'Tissues',\n",
       " 'Phone',\n",
       " 'Hat',\n",
       " 'Laptop',\n",
       " 'Headphones',\n",
       " 'Water Bottle']"
      ]
     },
     "execution_count": 432,
     "metadata": {},
     "output_type": "execute_result"
    }
   ],
   "source": [
    "more_items = [\n",
    "    Item('Candy', 5, 25),\n",
    "    Item('Socks', 10, 38),\n",
    "    Item('Tissues', 15, 80),\n",
    "    Item('Phone', 500, 200),\n",
    "    Item('Hat', 100, 70)\n",
    "] + items\n",
    "\n",
    "run_backpack_example(more_items, 1310, 100, True)"
   ]
  },
  {
   "cell_type": "code",
   "execution_count": 433,
   "metadata": {},
   "outputs": [
    {
     "data": {
      "image/png": "[encoded data removed]",
      "text/plain": [
       "<Figure size 500x500 with 1 Axes>"
      ]
     },
     "metadata": {},
     "output_type": "display_data"
    }
   ],
   "source": [
    "def run_example_by_times_for_items(times: int, items, print_stats: bool):\n",
    "    best_solutions = []\n",
    "    for _ in range(times):\n",
    "        best_solutions.append(run_backpack_example(items, 1310, 100, print_stats))\n",
    "    \n",
    "    return best_solutions\n",
    "\n",
    "def get_probability(items):\n",
    "    prob = {}\n",
    "    for item in items:\n",
    "        if prob.get(item):\n",
    "            prob[item]+= 1\n",
    "        else:\n",
    "            prob[item] = 1\n",
    "\n",
    "    items_num = len(items)\n",
    "\n",
    "    for key in prob.keys():\n",
    "        prob[key] = prob[key] / items_num\n",
    "    \n",
    "    return prob    \n",
    "    \n",
    "def plot_backpack_example():\n",
    "\n",
    "    best_solutions = run_example_by_times_for_items(100, more_items, False)\n",
    "    best_solutions_res = []\n",
    "    [ best_solutions_res.extend(elem) for elem in best_solutions] \n",
    "    \n",
    "    probs = get_probability(best_solutions_res)\n",
    "\n",
    "    df = make_df(\"items\", \"probability\", probs.keys(), probs.values())\n",
    "\n",
    "    sns.catplot(df, x= \"items\", y=\"probability\", kind=\"bar\")\n",
    "    plt.xticks(rotation=45)\n",
    "    plt.show()\n",
    "\n",
    "plot_backpack_example()"
   ]
  },
  {
   "attachments": {},
   "cell_type": "markdown",
   "metadata": {},
   "source": [
    "# Algoritmos Genéticos aplicados a Machine Learning"
   ]
  },
  {
   "attachments": {},
   "cell_type": "markdown",
   "metadata": {},
   "source": [
    "Para finalizar, una aplicación de los algoritmos genéticos en el campo del aprendizaje automático. En este caso, utilizaremos la biblioteca sklearn_genetic para encontrar los valores óptimos de los hiperparámetros que maximizan la precisión de un modelo para clasificar el set de dígitos de sklearn, utilizando el ensamble Random Forest.\n",
    "\n",
    "En este caso, el algoritmo genético explorará el espacio de búsqueda de hiperparámetros, tal y como lo hacen RandomSearchCV y GridSearchCV en Scikit Learn, alcanzando una solución óptima en un tiempo razonable. Como función de fitness, utilizaremos la medida de accuracy (casos bien clasificados sobre el total)."
   ]
  },
  {
   "cell_type": "code",
   "execution_count": 28,
   "metadata": {},
   "outputs": [],
   "source": [
    "from sklearn_genetic import GASearchCV\n",
    "from sklearn.ensemble import RandomForestClassifier\n",
    "from sklearn.model_selection import train_test_split, GridSearchCV, RandomizedSearchCV\n",
    "from sklearn_genetic.space import Integer, Categorical\n",
    "from sklearn.datasets import load_digits\n",
    "from sklearn.metrics import accuracy_score\n",
    "import warnings\n",
    "warnings.filterwarnings(\"ignore\")"
   ]
  },
  {
   "attachments": {},
   "cell_type": "markdown",
   "metadata": {},
   "source": [
    "Cargamos el set de datos que utilizaremos para entrenar cada modelo"
   ]
  },
  {
   "cell_type": "code",
   "execution_count": 6,
   "metadata": {},
   "outputs": [],
   "source": [
    "data = load_digits()"
   ]
  },
  {
   "attachments": {},
   "cell_type": "markdown",
   "metadata": {},
   "source": [
    "A continuación, armamos los sets de entrenamiento y test."
   ]
  },
  {
   "cell_type": "code",
   "execution_count": 7,
   "metadata": {},
   "outputs": [],
   "source": [
    "label_names = data['target_names']\n",
    "y = data['target']\n",
    "X = data['data']\n",
    "X_train, X_test, y_train, y_test = train_test_split(X, y, test_size=0.4, random_state=42)"
   ]
  },
  {
   "attachments": {},
   "cell_type": "markdown",
   "metadata": {},
   "source": [
    "Como clasificador, utilizaremos el ensamble Random Forest nativo de sklearn."
   ]
  },
  {
   "cell_type": "code",
   "execution_count": 8,
   "metadata": {},
   "outputs": [],
   "source": [
    "clf = RandomForestClassifier()"
   ]
  },
  {
   "attachments": {},
   "cell_type": "markdown",
   "metadata": {},
   "source": [
    "Para este ejemplo variaremos los hiperparámetros que representan la profundidad máxima de los árboles del ensamble, la cantidad de estimadores a utilizar y los criterios de impureza de Gini y de entropía para la construcción del árbol."
   ]
  },
  {
   "cell_type": "code",
   "execution_count": 22,
   "metadata": {},
   "outputs": [],
   "source": [
    "params = {'max_depth': range(2, 16), 'n_estimators': range(\n",
    "    100, 1000, 50), 'criterion': ['gini', 'entropy']}"
   ]
  },
  {
   "attachments": {},
   "cell_type": "markdown",
   "metadata": {},
   "source": [
    "## 1. Random Search"
   ]
  },
  {
   "cell_type": "code",
   "execution_count": 16,
   "metadata": {},
   "outputs": [],
   "source": [
    "n_iter_search = 30\n",
    "random_search = RandomizedSearchCV(clf,\n",
    "                                   param_distributions=params,\n",
    "                                   n_iter=n_iter_search,\n",
    "                                   n_jobs=-1,\n",
    "                                   random_state=42)\n"
   ]
  },
  {
   "cell_type": "code",
   "execution_count": 17,
   "metadata": {},
   "outputs": [
    {
     "data": {
      "text/html": [
       "<style>#sk-container-id-1 {color: black;background-color: white;}#sk-container-id-1 pre{padding: 0;}#sk-container-id-1 div.sk-toggleable {background-color: white;}#sk-container-id-1 label.sk-toggleable__label {cursor: pointer;display: block;width: 100%;margin-bottom: 0;padding: 0.3em;box-sizing: border-box;text-align: center;}#sk-container-id-1 label.sk-toggleable__label-arrow:before {content: \"▸\";float: left;margin-right: 0.25em;color: #696969;}#sk-container-id-1 label.sk-toggleable__label-arrow:hover:before {color: black;}#sk-container-id-1 div.sk-estimator:hover label.sk-toggleable__label-arrow:before {color: black;}#sk-container-id-1 div.sk-toggleable__content {max-height: 0;max-width: 0;overflow: hidden;text-align: left;background-color: #f0f8ff;}#sk-container-id-1 div.sk-toggleable__content pre {margin: 0.2em;color: black;border-radius: 0.25em;background-color: #f0f8ff;}#sk-container-id-1 input.sk-toggleable__control:checked~div.sk-toggleable__content {max-height: 200px;max-width: 100%;overflow: auto;}#sk-container-id-1 input.sk-toggleable__control:checked~label.sk-toggleable__label-arrow:before {content: \"▾\";}#sk-container-id-1 div.sk-estimator input.sk-toggleable__control:checked~label.sk-toggleable__label {background-color: #d4ebff;}#sk-container-id-1 div.sk-label input.sk-toggleable__control:checked~label.sk-toggleable__label {background-color: #d4ebff;}#sk-container-id-1 input.sk-hidden--visually {border: 0;clip: rect(1px 1px 1px 1px);clip: rect(1px, 1px, 1px, 1px);height: 1px;margin: -1px;overflow: hidden;padding: 0;position: absolute;width: 1px;}#sk-container-id-1 div.sk-estimator {font-family: monospace;background-color: #f0f8ff;border: 1px dotted black;border-radius: 0.25em;box-sizing: border-box;margin-bottom: 0.5em;}#sk-container-id-1 div.sk-estimator:hover {background-color: #d4ebff;}#sk-container-id-1 div.sk-parallel-item::after {content: \"\";width: 100%;border-bottom: 1px solid gray;flex-grow: 1;}#sk-container-id-1 div.sk-label:hover label.sk-toggleable__label {background-color: #d4ebff;}#sk-container-id-1 div.sk-serial::before {content: \"\";position: absolute;border-left: 1px solid gray;box-sizing: border-box;top: 0;bottom: 0;left: 50%;z-index: 0;}#sk-container-id-1 div.sk-serial {display: flex;flex-direction: column;align-items: center;background-color: white;padding-right: 0.2em;padding-left: 0.2em;position: relative;}#sk-container-id-1 div.sk-item {position: relative;z-index: 1;}#sk-container-id-1 div.sk-parallel {display: flex;align-items: stretch;justify-content: center;background-color: white;position: relative;}#sk-container-id-1 div.sk-item::before, #sk-container-id-1 div.sk-parallel-item::before {content: \"\";position: absolute;border-left: 1px solid gray;box-sizing: border-box;top: 0;bottom: 0;left: 50%;z-index: -1;}#sk-container-id-1 div.sk-parallel-item {display: flex;flex-direction: column;z-index: 1;position: relative;background-color: white;}#sk-container-id-1 div.sk-parallel-item:first-child::after {align-self: flex-end;width: 50%;}#sk-container-id-1 div.sk-parallel-item:last-child::after {align-self: flex-start;width: 50%;}#sk-container-id-1 div.sk-parallel-item:only-child::after {width: 0;}#sk-container-id-1 div.sk-dashed-wrapped {border: 1px dashed gray;margin: 0 0.4em 0.5em 0.4em;box-sizing: border-box;padding-bottom: 0.4em;background-color: white;}#sk-container-id-1 div.sk-label label {font-family: monospace;font-weight: bold;display: inline-block;line-height: 1.2em;}#sk-container-id-1 div.sk-label-container {text-align: center;}#sk-container-id-1 div.sk-container {/* jupyter's `normalize.less` sets `[hidden] { display: none; }` but bootstrap.min.css set `[hidden] { display: none !important; }` so we also need the `!important` here to be able to override the default hidden behavior on the sphinx rendered scikit-learn.org. See: https://github.com/scikit-learn/scikit-learn/issues/21755 */display: inline-block !important;position: relative;}#sk-container-id-1 div.sk-text-repr-fallback {display: none;}</style><div id=\"sk-container-id-1\" class=\"sk-top-container\"><div class=\"sk-text-repr-fallback\"><pre>RandomizedSearchCV(estimator=RandomForestClassifier(), n_iter=30, n_jobs=-1,\n",
       "                   param_distributions={&#x27;criterion&#x27;: [&#x27;gini&#x27;, &#x27;entropy&#x27;],\n",
       "                                        &#x27;max_depth&#x27;: range(2, 16),\n",
       "                                        &#x27;n_estimators&#x27;: range(100, 1200, 50)},\n",
       "                   random_state=42)</pre><b>In a Jupyter environment, please rerun this cell to show the HTML representation or trust the notebook. <br />On GitHub, the HTML representation is unable to render, please try loading this page with nbviewer.org.</b></div><div class=\"sk-container\" hidden><div class=\"sk-item sk-dashed-wrapped\"><div class=\"sk-label-container\"><div class=\"sk-label sk-toggleable\"><input class=\"sk-toggleable__control sk-hidden--visually\" id=\"sk-estimator-id-1\" type=\"checkbox\" ><label for=\"sk-estimator-id-1\" class=\"sk-toggleable__label sk-toggleable__label-arrow\">RandomizedSearchCV</label><div class=\"sk-toggleable__content\"><pre>RandomizedSearchCV(estimator=RandomForestClassifier(), n_iter=30, n_jobs=-1,\n",
       "                   param_distributions={&#x27;criterion&#x27;: [&#x27;gini&#x27;, &#x27;entropy&#x27;],\n",
       "                                        &#x27;max_depth&#x27;: range(2, 16),\n",
       "                                        &#x27;n_estimators&#x27;: range(100, 1200, 50)},\n",
       "                   random_state=42)</pre></div></div></div><div class=\"sk-parallel\"><div class=\"sk-parallel-item\"><div class=\"sk-item\"><div class=\"sk-label-container\"><div class=\"sk-label sk-toggleable\"><input class=\"sk-toggleable__control sk-hidden--visually\" id=\"sk-estimator-id-2\" type=\"checkbox\" ><label for=\"sk-estimator-id-2\" class=\"sk-toggleable__label sk-toggleable__label-arrow\">estimator: RandomForestClassifier</label><div class=\"sk-toggleable__content\"><pre>RandomForestClassifier()</pre></div></div></div><div class=\"sk-serial\"><div class=\"sk-item\"><div class=\"sk-estimator sk-toggleable\"><input class=\"sk-toggleable__control sk-hidden--visually\" id=\"sk-estimator-id-3\" type=\"checkbox\" ><label for=\"sk-estimator-id-3\" class=\"sk-toggleable__label sk-toggleable__label-arrow\">RandomForestClassifier</label><div class=\"sk-toggleable__content\"><pre>RandomForestClassifier()</pre></div></div></div></div></div></div></div></div></div></div>"
      ],
      "text/plain": [
       "RandomizedSearchCV(estimator=RandomForestClassifier(), n_iter=30, n_jobs=-1,\n",
       "                   param_distributions={'criterion': ['gini', 'entropy'],\n",
       "                                        'max_depth': range(2, 16),\n",
       "                                        'n_estimators': range(100, 1200, 50)},\n",
       "                   random_state=42)"
      ]
     },
     "execution_count": 17,
     "metadata": {},
     "output_type": "execute_result"
    }
   ],
   "source": [
    "random_search.fit(X_train,y_train)"
   ]
  },
  {
   "cell_type": "code",
   "execution_count": 18,
   "metadata": {},
   "outputs": [
    {
     "name": "stdout",
     "output_type": "stream",
     "text": [
      "0.9749652294853964\n"
     ]
    }
   ],
   "source": [
    "random_search_accuracy = accuracy_score(y_test, random_search.predict(X_test))\n",
    "print(random_search_accuracy)"
   ]
  },
  {
   "cell_type": "code",
   "execution_count": 19,
   "metadata": {},
   "outputs": [
    {
     "data": {
      "text/plain": [
       "{'n_estimators': 600, 'max_depth': 15, 'criterion': 'entropy'}"
      ]
     },
     "execution_count": 19,
     "metadata": {},
     "output_type": "execute_result"
    }
   ],
   "source": [
    "random_search.best_params_"
   ]
  },
  {
   "attachments": {},
   "cell_type": "markdown",
   "metadata": {},
   "source": [
    "## 2. Grid Search"
   ]
  },
  {
   "cell_type": "code",
   "execution_count": 23,
   "metadata": {},
   "outputs": [],
   "source": [
    "grid_search = GridSearchCV(clf, param_grid=params,n_jobs=-1)"
   ]
  },
  {
   "cell_type": "code",
   "execution_count": 24,
   "metadata": {},
   "outputs": [
    {
     "data": {
      "text/html": [
       "<style>#sk-container-id-2 {color: black;background-color: white;}#sk-container-id-2 pre{padding: 0;}#sk-container-id-2 div.sk-toggleable {background-color: white;}#sk-container-id-2 label.sk-toggleable__label {cursor: pointer;display: block;width: 100%;margin-bottom: 0;padding: 0.3em;box-sizing: border-box;text-align: center;}#sk-container-id-2 label.sk-toggleable__label-arrow:before {content: \"▸\";float: left;margin-right: 0.25em;color: #696969;}#sk-container-id-2 label.sk-toggleable__label-arrow:hover:before {color: black;}#sk-container-id-2 div.sk-estimator:hover label.sk-toggleable__label-arrow:before {color: black;}#sk-container-id-2 div.sk-toggleable__content {max-height: 0;max-width: 0;overflow: hidden;text-align: left;background-color: #f0f8ff;}#sk-container-id-2 div.sk-toggleable__content pre {margin: 0.2em;color: black;border-radius: 0.25em;background-color: #f0f8ff;}#sk-container-id-2 input.sk-toggleable__control:checked~div.sk-toggleable__content {max-height: 200px;max-width: 100%;overflow: auto;}#sk-container-id-2 input.sk-toggleable__control:checked~label.sk-toggleable__label-arrow:before {content: \"▾\";}#sk-container-id-2 div.sk-estimator input.sk-toggleable__control:checked~label.sk-toggleable__label {background-color: #d4ebff;}#sk-container-id-2 div.sk-label input.sk-toggleable__control:checked~label.sk-toggleable__label {background-color: #d4ebff;}#sk-container-id-2 input.sk-hidden--visually {border: 0;clip: rect(1px 1px 1px 1px);clip: rect(1px, 1px, 1px, 1px);height: 1px;margin: -1px;overflow: hidden;padding: 0;position: absolute;width: 1px;}#sk-container-id-2 div.sk-estimator {font-family: monospace;background-color: #f0f8ff;border: 1px dotted black;border-radius: 0.25em;box-sizing: border-box;margin-bottom: 0.5em;}#sk-container-id-2 div.sk-estimator:hover {background-color: #d4ebff;}#sk-container-id-2 div.sk-parallel-item::after {content: \"\";width: 100%;border-bottom: 1px solid gray;flex-grow: 1;}#sk-container-id-2 div.sk-label:hover label.sk-toggleable__label {background-color: #d4ebff;}#sk-container-id-2 div.sk-serial::before {content: \"\";position: absolute;border-left: 1px solid gray;box-sizing: border-box;top: 0;bottom: 0;left: 50%;z-index: 0;}#sk-container-id-2 div.sk-serial {display: flex;flex-direction: column;align-items: center;background-color: white;padding-right: 0.2em;padding-left: 0.2em;position: relative;}#sk-container-id-2 div.sk-item {position: relative;z-index: 1;}#sk-container-id-2 div.sk-parallel {display: flex;align-items: stretch;justify-content: center;background-color: white;position: relative;}#sk-container-id-2 div.sk-item::before, #sk-container-id-2 div.sk-parallel-item::before {content: \"\";position: absolute;border-left: 1px solid gray;box-sizing: border-box;top: 0;bottom: 0;left: 50%;z-index: -1;}#sk-container-id-2 div.sk-parallel-item {display: flex;flex-direction: column;z-index: 1;position: relative;background-color: white;}#sk-container-id-2 div.sk-parallel-item:first-child::after {align-self: flex-end;width: 50%;}#sk-container-id-2 div.sk-parallel-item:last-child::after {align-self: flex-start;width: 50%;}#sk-container-id-2 div.sk-parallel-item:only-child::after {width: 0;}#sk-container-id-2 div.sk-dashed-wrapped {border: 1px dashed gray;margin: 0 0.4em 0.5em 0.4em;box-sizing: border-box;padding-bottom: 0.4em;background-color: white;}#sk-container-id-2 div.sk-label label {font-family: monospace;font-weight: bold;display: inline-block;line-height: 1.2em;}#sk-container-id-2 div.sk-label-container {text-align: center;}#sk-container-id-2 div.sk-container {/* jupyter's `normalize.less` sets `[hidden] { display: none; }` but bootstrap.min.css set `[hidden] { display: none !important; }` so we also need the `!important` here to be able to override the default hidden behavior on the sphinx rendered scikit-learn.org. See: https://github.com/scikit-learn/scikit-learn/issues/21755 */display: inline-block !important;position: relative;}#sk-container-id-2 div.sk-text-repr-fallback {display: none;}</style><div id=\"sk-container-id-2\" class=\"sk-top-container\"><div class=\"sk-text-repr-fallback\"><pre>GridSearchCV(estimator=RandomForestClassifier(), n_jobs=-1,\n",
       "             param_grid={&#x27;criterion&#x27;: [&#x27;gini&#x27;, &#x27;entropy&#x27;],\n",
       "                         &#x27;max_depth&#x27;: range(2, 16),\n",
       "                         &#x27;n_estimators&#x27;: range(100, 1000, 50)})</pre><b>In a Jupyter environment, please rerun this cell to show the HTML representation or trust the notebook. <br />On GitHub, the HTML representation is unable to render, please try loading this page with nbviewer.org.</b></div><div class=\"sk-container\" hidden><div class=\"sk-item sk-dashed-wrapped\"><div class=\"sk-label-container\"><div class=\"sk-label sk-toggleable\"><input class=\"sk-toggleable__control sk-hidden--visually\" id=\"sk-estimator-id-4\" type=\"checkbox\" ><label for=\"sk-estimator-id-4\" class=\"sk-toggleable__label sk-toggleable__label-arrow\">GridSearchCV</label><div class=\"sk-toggleable__content\"><pre>GridSearchCV(estimator=RandomForestClassifier(), n_jobs=-1,\n",
       "             param_grid={&#x27;criterion&#x27;: [&#x27;gini&#x27;, &#x27;entropy&#x27;],\n",
       "                         &#x27;max_depth&#x27;: range(2, 16),\n",
       "                         &#x27;n_estimators&#x27;: range(100, 1000, 50)})</pre></div></div></div><div class=\"sk-parallel\"><div class=\"sk-parallel-item\"><div class=\"sk-item\"><div class=\"sk-label-container\"><div class=\"sk-label sk-toggleable\"><input class=\"sk-toggleable__control sk-hidden--visually\" id=\"sk-estimator-id-5\" type=\"checkbox\" ><label for=\"sk-estimator-id-5\" class=\"sk-toggleable__label sk-toggleable__label-arrow\">estimator: RandomForestClassifier</label><div class=\"sk-toggleable__content\"><pre>RandomForestClassifier()</pre></div></div></div><div class=\"sk-serial\"><div class=\"sk-item\"><div class=\"sk-estimator sk-toggleable\"><input class=\"sk-toggleable__control sk-hidden--visually\" id=\"sk-estimator-id-6\" type=\"checkbox\" ><label for=\"sk-estimator-id-6\" class=\"sk-toggleable__label sk-toggleable__label-arrow\">RandomForestClassifier</label><div class=\"sk-toggleable__content\"><pre>RandomForestClassifier()</pre></div></div></div></div></div></div></div></div></div></div>"
      ],
      "text/plain": [
       "GridSearchCV(estimator=RandomForestClassifier(), n_jobs=-1,\n",
       "             param_grid={'criterion': ['gini', 'entropy'],\n",
       "                         'max_depth': range(2, 16),\n",
       "                         'n_estimators': range(100, 1000, 50)})"
      ]
     },
     "execution_count": 24,
     "metadata": {},
     "output_type": "execute_result"
    }
   ],
   "source": [
    "grid_search.fit(X_train,y_train)"
   ]
  },
  {
   "cell_type": "code",
   "execution_count": 25,
   "metadata": {},
   "outputs": [
    {
     "name": "stdout",
     "output_type": "stream",
     "text": [
      "0.9777468706536857\n"
     ]
    }
   ],
   "source": [
    "grid_search_accuracy = accuracy_score(y_test, grid_search.predict(X_test))\n",
    "print(grid_search_accuracy)"
   ]
  },
  {
   "cell_type": "code",
   "execution_count": 26,
   "metadata": {},
   "outputs": [
    {
     "data": {
      "text/plain": [
       "{'criterion': 'entropy', 'max_depth': 15, 'n_estimators': 750}"
      ]
     },
     "execution_count": 26,
     "metadata": {},
     "output_type": "execute_result"
    }
   ],
   "source": [
    "grid_search.best_params_"
   ]
  },
  {
   "attachments": {},
   "cell_type": "markdown",
   "metadata": {},
   "source": [
    "## 3. Genetic Algorithm"
   ]
  },
  {
   "attachments": {},
   "cell_type": "markdown",
   "metadata": {},
   "source": [
    "Veamos ahora cómo se comporta la selección de hiperparámetros usando un algoritmo evolutivo. Al igual que antes, el criterio para la función de fitness será el de la métrica de accuracy del modelo de clasificación, comenzando con una población aleatoria de 10 estimadores, para luego aplicar los operadores genéticos para dar lugar a nuevas generaciones que mejoran esta métrica. Continuará este proceso hasta alcanzar el número límite de generaciones, que en nuestro caso establecimos en 5."
   ]
  },
  {
   "cell_type": "code",
   "execution_count": 29,
   "metadata": {},
   "outputs": [],
   "source": [
    "param_grid = {'max_depth': Integer(2, 16), 'n_estimators': Integer(\n",
    "    50, 1200), 'criterion': Categorical(['gini', 'entropy'])}"
   ]
  },
  {
   "cell_type": "code",
   "execution_count": 30,
   "metadata": {},
   "outputs": [],
   "source": [
    "evolved_estimator = GASearchCV(clf,\n",
    "                    scoring='accuracy',\n",
    "                    param_grid=param_grid,\n",
    "                    population_size=10,\n",
    "                    generations=5,\n",
    "                    elitism=True,\n",
    "                    verbose=True)"
   ]
  },
  {
   "attachments": {},
   "cell_type": "markdown",
   "metadata": {},
   "source": [
    "Veamos cómo se comporta el estimador obtenido sobre el set de entrenamiento"
   ]
  },
  {
   "cell_type": "code",
   "execution_count": 31,
   "metadata": {},
   "outputs": [
    {
     "name": "stdout",
     "output_type": "stream",
     "text": [
      "gen\tnevals\tfitness \tfitness_std\tfitness_max\tfitness_min\n",
      "0  \t10    \t0.930449\t0.060764   \t0.963835   \t0.798752   \n",
      "1  \t20    \t0.963466\t0.00212056 \t0.966615   \t0.961054   \n",
      "2  \t20    \t0.963837\t0.0016575  \t0.966615   \t0.961978   \n",
      "3  \t20    \t0.964301\t0.00111582 \t0.966615   \t0.962904   \n",
      "4  \t20    \t0.963836\t0.000926962\t0.964766   \t0.961983   \n",
      "5  \t20    \t0.964024\t0.00107937 \t0.964768   \t0.961988   \n"
     ]
    },
    {
     "data": {
      "text/html": [
       "<style>#sk-container-id-3 {color: black;background-color: white;}#sk-container-id-3 pre{padding: 0;}#sk-container-id-3 div.sk-toggleable {background-color: white;}#sk-container-id-3 label.sk-toggleable__label {cursor: pointer;display: block;width: 100%;margin-bottom: 0;padding: 0.3em;box-sizing: border-box;text-align: center;}#sk-container-id-3 label.sk-toggleable__label-arrow:before {content: \"▸\";float: left;margin-right: 0.25em;color: #696969;}#sk-container-id-3 label.sk-toggleable__label-arrow:hover:before {color: black;}#sk-container-id-3 div.sk-estimator:hover label.sk-toggleable__label-arrow:before {color: black;}#sk-container-id-3 div.sk-toggleable__content {max-height: 0;max-width: 0;overflow: hidden;text-align: left;background-color: #f0f8ff;}#sk-container-id-3 div.sk-toggleable__content pre {margin: 0.2em;color: black;border-radius: 0.25em;background-color: #f0f8ff;}#sk-container-id-3 input.sk-toggleable__control:checked~div.sk-toggleable__content {max-height: 200px;max-width: 100%;overflow: auto;}#sk-container-id-3 input.sk-toggleable__control:checked~label.sk-toggleable__label-arrow:before {content: \"▾\";}#sk-container-id-3 div.sk-estimator input.sk-toggleable__control:checked~label.sk-toggleable__label {background-color: #d4ebff;}#sk-container-id-3 div.sk-label input.sk-toggleable__control:checked~label.sk-toggleable__label {background-color: #d4ebff;}#sk-container-id-3 input.sk-hidden--visually {border: 0;clip: rect(1px 1px 1px 1px);clip: rect(1px, 1px, 1px, 1px);height: 1px;margin: -1px;overflow: hidden;padding: 0;position: absolute;width: 1px;}#sk-container-id-3 div.sk-estimator {font-family: monospace;background-color: #f0f8ff;border: 1px dotted black;border-radius: 0.25em;box-sizing: border-box;margin-bottom: 0.5em;}#sk-container-id-3 div.sk-estimator:hover {background-color: #d4ebff;}#sk-container-id-3 div.sk-parallel-item::after {content: \"\";width: 100%;border-bottom: 1px solid gray;flex-grow: 1;}#sk-container-id-3 div.sk-label:hover label.sk-toggleable__label {background-color: #d4ebff;}#sk-container-id-3 div.sk-serial::before {content: \"\";position: absolute;border-left: 1px solid gray;box-sizing: border-box;top: 0;bottom: 0;left: 50%;z-index: 0;}#sk-container-id-3 div.sk-serial {display: flex;flex-direction: column;align-items: center;background-color: white;padding-right: 0.2em;padding-left: 0.2em;position: relative;}#sk-container-id-3 div.sk-item {position: relative;z-index: 1;}#sk-container-id-3 div.sk-parallel {display: flex;align-items: stretch;justify-content: center;background-color: white;position: relative;}#sk-container-id-3 div.sk-item::before, #sk-container-id-3 div.sk-parallel-item::before {content: \"\";position: absolute;border-left: 1px solid gray;box-sizing: border-box;top: 0;bottom: 0;left: 50%;z-index: -1;}#sk-container-id-3 div.sk-parallel-item {display: flex;flex-direction: column;z-index: 1;position: relative;background-color: white;}#sk-container-id-3 div.sk-parallel-item:first-child::after {align-self: flex-end;width: 50%;}#sk-container-id-3 div.sk-parallel-item:last-child::after {align-self: flex-start;width: 50%;}#sk-container-id-3 div.sk-parallel-item:only-child::after {width: 0;}#sk-container-id-3 div.sk-dashed-wrapped {border: 1px dashed gray;margin: 0 0.4em 0.5em 0.4em;box-sizing: border-box;padding-bottom: 0.4em;background-color: white;}#sk-container-id-3 div.sk-label label {font-family: monospace;font-weight: bold;display: inline-block;line-height: 1.2em;}#sk-container-id-3 div.sk-label-container {text-align: center;}#sk-container-id-3 div.sk-container {/* jupyter's `normalize.less` sets `[hidden] { display: none; }` but bootstrap.min.css set `[hidden] { display: none !important; }` so we also need the `!important` here to be able to override the default hidden behavior on the sphinx rendered scikit-learn.org. See: https://github.com/scikit-learn/scikit-learn/issues/21755 */display: inline-block !important;position: relative;}#sk-container-id-3 div.sk-text-repr-fallback {display: none;}</style><div id=\"sk-container-id-3\" class=\"sk-top-container\"><div class=\"sk-text-repr-fallback\"><pre>GASearchCV(estimator=RandomForestClassifier(criterion=&#x27;entropy&#x27;, max_depth=14,\n",
       "                                            n_estimators=928),\n",
       "           generations=5,\n",
       "           param_grid={&#x27;criterion&#x27;: &lt;sklearn_genetic.space.space.Categorical object at 0x137d39ad0&gt;,\n",
       "                       &#x27;max_depth&#x27;: &lt;sklearn_genetic.space.space.Integer object at 0x137b299d0&gt;,\n",
       "                       &#x27;n_estimators&#x27;: &lt;sklearn_genetic.space.space.Integer object at 0x137810310&gt;},\n",
       "           population_size=10, return_train_score=True, scoring=&#x27;accuracy&#x27;)</pre><b>In a Jupyter environment, please rerun this cell to show the HTML representation or trust the notebook. <br />On GitHub, the HTML representation is unable to render, please try loading this page with nbviewer.org.</b></div><div class=\"sk-container\" hidden><div class=\"sk-item sk-dashed-wrapped\"><div class=\"sk-label-container\"><div class=\"sk-label sk-toggleable\"><input class=\"sk-toggleable__control sk-hidden--visually\" id=\"sk-estimator-id-7\" type=\"checkbox\" ><label for=\"sk-estimator-id-7\" class=\"sk-toggleable__label sk-toggleable__label-arrow\">GASearchCV</label><div class=\"sk-toggleable__content\"><pre>GASearchCV(estimator=RandomForestClassifier(criterion=&#x27;entropy&#x27;, max_depth=14,\n",
       "                                            n_estimators=928),\n",
       "           generations=5,\n",
       "           param_grid={&#x27;criterion&#x27;: &lt;sklearn_genetic.space.space.Categorical object at 0x137d39ad0&gt;,\n",
       "                       &#x27;max_depth&#x27;: &lt;sklearn_genetic.space.space.Integer object at 0x137b299d0&gt;,\n",
       "                       &#x27;n_estimators&#x27;: &lt;sklearn_genetic.space.space.Integer object at 0x137810310&gt;},\n",
       "           population_size=10, return_train_score=True, scoring=&#x27;accuracy&#x27;)</pre></div></div></div><div class=\"sk-parallel\"><div class=\"sk-parallel-item\"><div class=\"sk-item\"><div class=\"sk-label-container\"><div class=\"sk-label sk-toggleable\"><input class=\"sk-toggleable__control sk-hidden--visually\" id=\"sk-estimator-id-8\" type=\"checkbox\" ><label for=\"sk-estimator-id-8\" class=\"sk-toggleable__label sk-toggleable__label-arrow\">estimator: RandomForestClassifier</label><div class=\"sk-toggleable__content\"><pre>RandomForestClassifier(criterion=&#x27;entropy&#x27;, max_depth=14, n_estimators=928)</pre></div></div></div><div class=\"sk-serial\"><div class=\"sk-item\"><div class=\"sk-estimator sk-toggleable\"><input class=\"sk-toggleable__control sk-hidden--visually\" id=\"sk-estimator-id-9\" type=\"checkbox\" ><label for=\"sk-estimator-id-9\" class=\"sk-toggleable__label sk-toggleable__label-arrow\">RandomForestClassifier</label><div class=\"sk-toggleable__content\"><pre>RandomForestClassifier(criterion=&#x27;entropy&#x27;, max_depth=14, n_estimators=928)</pre></div></div></div></div></div></div></div></div></div></div>"
      ],
      "text/plain": [
       "GASearchCV(estimator=RandomForestClassifier(criterion='entropy', max_depth=14,\n",
       "                                            n_estimators=928),\n",
       "           generations=5,\n",
       "           param_grid={'criterion': <sklearn_genetic.space.space.Categorical object at 0x137d39ad0>,\n",
       "                       'max_depth': <sklearn_genetic.space.space.Integer object at 0x137b299d0>,\n",
       "                       'n_estimators': <sklearn_genetic.space.space.Integer object at 0x137810310>},\n",
       "           population_size=10, return_train_score=True, scoring='accuracy')"
      ]
     },
     "execution_count": 31,
     "metadata": {},
     "output_type": "execute_result"
    }
   ],
   "source": [
    "evolved_estimator.fit(X_train,y_train)"
   ]
  },
  {
   "cell_type": "markdown",
   "metadata": {},
   "source": []
  },
  {
   "cell_type": "code",
   "execution_count": 32,
   "metadata": {},
   "outputs": [],
   "source": [
    "y_predicy_ga = evolved_estimator.predict(X_test)"
   ]
  },
  {
   "cell_type": "code",
   "execution_count": 33,
   "metadata": {},
   "outputs": [
    {
     "name": "stdout",
     "output_type": "stream",
     "text": [
      "0.9749652294853964\n"
     ]
    }
   ],
   "source": [
    "genetic_algorithm_accuracy = accuracy_score(y_test,y_predicy_ga)\n",
    "print(genetic_algorithm_accuracy)"
   ]
  },
  {
   "cell_type": "code",
   "execution_count": 34,
   "metadata": {},
   "outputs": [
    {
     "data": {
      "text/plain": [
       "{'max_depth': 14, 'n_estimators': 928, 'criterion': 'entropy'}"
      ]
     },
     "execution_count": 34,
     "metadata": {},
     "output_type": "execute_result"
    }
   ],
   "source": [
    "evolved_estimator.best_params_"
   ]
  },
  {
   "attachments": {},
   "cell_type": "markdown",
   "metadata": {},
   "source": [
    "## Comparaciones"
   ]
  },
  {
   "cell_type": "code",
   "execution_count": 37,
   "metadata": {},
   "outputs": [
    {
     "data": {
      "text/html": [
       "<div>\n",
       "<style scoped>\n",
       "    .dataframe tbody tr th:only-of-type {\n",
       "        vertical-align: middle;\n",
       "    }\n",
       "\n",
       "    .dataframe tbody tr th {\n",
       "        vertical-align: top;\n",
       "    }\n",
       "\n",
       "    .dataframe thead th {\n",
       "        text-align: right;\n",
       "    }\n",
       "</style>\n",
       "<table border=\"1\" class=\"dataframe\">\n",
       "  <thead>\n",
       "    <tr style=\"text-align: right;\">\n",
       "      <th></th>\n",
       "      <th>models</th>\n",
       "      <th>accuracy</th>\n",
       "    </tr>\n",
       "  </thead>\n",
       "  <tbody>\n",
       "    <tr>\n",
       "      <th>1</th>\n",
       "      <td>grid_search</td>\n",
       "      <td>0.977747</td>\n",
       "    </tr>\n",
       "    <tr>\n",
       "      <th>0</th>\n",
       "      <td>random_search</td>\n",
       "      <td>0.974965</td>\n",
       "    </tr>\n",
       "    <tr>\n",
       "      <th>2</th>\n",
       "      <td>genetic_algorithm</td>\n",
       "      <td>0.974965</td>\n",
       "    </tr>\n",
       "  </tbody>\n",
       "</table>\n",
       "</div>"
      ],
      "text/plain": [
       "              models  accuracy\n",
       "1        grid_search  0.977747\n",
       "0      random_search  0.974965\n",
       "2  genetic_algorithm  0.974965"
      ]
     },
     "execution_count": 37,
     "metadata": {},
     "output_type": "execute_result"
    }
   ],
   "source": [
    "models = [\"random_search\", \"grid_search\", \"genetic_algorithm\"]\n",
    "accuracies = [random_search_accuracy, grid_search_accuracy, genetic_algorithm_accuracy]\n",
    "make_df(\"models\", \"accuracy\", models, accuracies).sort_values(\"accuracy\",ascending=False)\n"
   ]
  },
  {
   "attachments": {},
   "cell_type": "markdown",
   "metadata": {},
   "source": [
    "# Bibliografía\n",
    "\n",
    "- Clinton Sheppard. _Genetic Algorithms with Pyhton_. CreateSpace Independent Publishing Platform, 2016.\n",
    "- M. Mitchell. _An introduction to genetic algorithms_. MIT Press, 1999.\n",
    "- Frances Buontempo. _Genetic Algorithms and Machine Learning for Programmers_. The Pragmatic Bookshelf, Raleigh, NC, 2019."
   ]
  },
  {
   "attachments": {},
   "cell_type": "markdown",
   "metadata": {},
   "source": [
    "## Algunos casos de estudio interesantes\n",
    "\n",
    "### Geijtenbeek, van de Panne, van der Stappen. 2013. Flexible Muscle-Based Locomotion for Bipedal Creatures. [PDF](https://www.goatstream.com/research/papers/SA2013/).\n",
    "\n",
    "En este trabajo se utiliza un algoritmo genético para definir un método de control basado en músculos y huesos para simular la locomoción de una variedad de bípedos. El algoritmo se encarga de distribuir los huesos y músculos dentro del cuerpo (que ya tiene una geometría previamente definida) y la forma de controlarlos para que el bípedo pueda caminar de forma natural. Luego se utiliza para generar movimientos más complejos como correr, saltar, etc. en distintos tipos de terrenos.\n",
    "Un buen resumen de este trabajo se puede encontrar en: https://www.youtube.com/watch?v=kQ2bqz3HPJE\n",
    "\n",
    "### Hornby, Globus, Linden, Lohn. 2006. Automated Antenna Design with Evolutionary Algorithms. [PDF](http://alglobus.net/NASAwork/papers/Space2006Antenna.pdf).\n",
    "\n",
    "En este trabajo se utilizan algoritmos genéticos para automatizar y optimizar el diseño de antenas de radiofrecuencia para misiones espaciales. El algoritmo genético se encarga de definir la geometría de la antena, la forma de alimentarla y la forma de controlarla para que pueda transmitir y recibir señales de radiofrecuencia."
   ]
  },
  {
   "cell_type": "markdown",
   "metadata": {},
   "source": []
  }
 ],
 "metadata": {
  "kernelspec": {
   "display_name": "Python 3",
   "language": "python",
   "name": "python3"
  },
  "language_info": {
   "codemirror_mode": {
    "name": "ipython",
    "version": 3
   },
   "file_extension": ".py",
   "mimetype": "text/x-python",
   "name": "python",
   "nbconvert_exporter": "python",
   "pygments_lexer": "ipython3",
   "version": "3.11.2"
  },
  "orig_nbformat": 4,
  "vscode": {
   "interpreter": {
    "hash": "5c7b89af1651d0b8571dde13640ecdccf7d5a6204171d6ab33e7c296e100e08a"
   }
  }
 },
 "nbformat": 4,
 "nbformat_minor": 2
}
